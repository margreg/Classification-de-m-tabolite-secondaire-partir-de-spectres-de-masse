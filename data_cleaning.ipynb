{
 "cells": [
  {
   "cell_type": "code",
   "execution_count": 60,
   "metadata": {},
   "outputs": [
    {
     "name": "stderr",
     "output_type": "stream",
     "text": [
      "C:\\Users\\marin\\Anaconda3\\lib\\site-packages\\IPython\\core\\interactiveshell.py:2785: DtypeWarning: Columns (1,2,3,4,5,8,10,11,12,13,14,15,22,24,25,26,28,29,31,32,33,34,35,36,37,38,39,40,41,46,54,55,56,57) have mixed types. Specify dtype option on import or set low_memory=False.\n",
      "  interactivity=interactivity, compiler=compiler, result=result)\n"
     ]
    }
   ],
   "source": [
    "import pandas as pd\n",
    "\n",
    "df = pd.read_csv('fulldata.csv')\n"
   ]
  },
  {
   "cell_type": "code",
   "execution_count": 61,
   "metadata": {},
   "outputs": [
    {
     "name": "stdout",
     "output_type": "stream",
     "text": [
      "<class 'pandas.core.frame.DataFrame'>\n",
      "RangeIndex: 49308 entries, 0 to 49307\n",
      "Data columns (total 60 columns):\n",
      "Unnamed: 0                                         49308 non-null int64\n",
      "AC$ANALYTICAL_CONDITION_CAPILLARY_VOLTAGE          7052 non-null object\n",
      "AC$ANALYTICAL_CONDITION_COLLISION_ENERGY           49308 non-null object\n",
      "AC$ANALYTICAL_CONDITION_DATAFORMAT                 32903 non-null object\n",
      "AC$ANALYTICAL_CONDITION_FRAGMENTATION_EQUIPMENT    32903 non-null object\n",
      "AC$ANALYTICAL_CONDITION_FRAGMENTATION_METHOD       32903 non-null object\n",
      "AC$ANALYTICAL_CONDITION_IONIZATION                 49308 non-null object\n",
      "AC$ANALYTICAL_CONDITION_MODE                       49308 non-null object\n",
      "AC$ANALYTICAL_CONDITION_MODEL                      16405 non-null object\n",
      "AC$ANALYTICAL_CONDITION_MS_TYPE                    49308 non-null object\n",
      "AC$ANALYTICAL_CONDITION_PRECURSOR_SELECTION        32903 non-null object\n",
      "AC$ANALYTICAL_CONDITION_SAMPLING_CONE              7052 non-null object\n",
      "AC$ANALYTICAL_CONDITION_SOLVENT                    23117 non-null object\n",
      "AC$ANALYTICAL_CONDITION_SOURCE_TEMPERATURE         7052 non-null object\n",
      "AC$ANALYTICAL_CONDITION_SPECTRUM_TYPE              32903 non-null object\n",
      "AC$INSTRUMENT                                      32903 non-null object\n",
      "AC$INSTRUMENT_TYPE                                 0 non-null float64\n",
      "ACCESSION                                          49308 non-null object\n",
      "AUTHORS                                            49308 non-null object\n",
      "CH$COMPOUND_CLASS_CLASS1                           49308 non-null object\n",
      "CH$COMPOUND_CLASS_CLASS2                           49305 non-null object\n",
      "CH$COMPOUND_CLASS_CLASS3                           38655 non-null object\n",
      "CH$EXACT_MASS                                      49308 non-null object\n",
      "CH$FORMULA                                         45462 non-null object\n",
      "CH$INCHI                                           25851 non-null object\n",
      "CH$IUPAC                                           32903 non-null object\n",
      "CH$LINK                                            2 non-null object\n",
      "CH$LINK_CAS                                        41261 non-null object\n",
      "CH$LINK_KEGG                                       25849 non-null object\n",
      "CH$LINK_PUBCHEM                                    25851 non-null object\n",
      "CH$NAME                                            49303 non-null object\n",
      "CH$NAME_AICAR                                      54 non-null object\n",
      "CH$NAME_AMP                                        52 non-null object\n",
      "CH$NAME_C16                                        57 non-null object\n",
      "CH$NAME_C18                                        1 non-null object\n",
      "CH$NAME_CDP                                        41 non-null object\n",
      "CH$NAME_DSS                                        4 non-null object\n",
      "CH$NAME_HN                                         5 non-null object\n",
      "CH$NAME_I3                                         3 non-null object\n",
      "CH$NAME_SAM                                        40 non-null object\n",
      "CH$NAME_U                                          58 non-null object\n",
      "CH$SMILES                                          32903 non-null object\n",
      "COMMENTS                                           49131 non-null object\n",
      "COPYRIGHT                                          49308 non-null object\n",
      "DATE                                               49308 non-null object\n",
      "MS$FOCUSED_ION_ION_TYPE                            49085 non-null object\n",
      "MS$FOCUSED_ION_PRECURSOR_M/Z                       49308 non-null object\n",
      "PK$NUM_PEAK                                        49308 non-null int64\n",
      "PK$PEAK_int.                                       49308 non-null float64\n",
      "PK$PEAK_m/z                                        49308 non-null float64\n",
      "PK$PEAK_rel.int.                                   49308 non-null int64\n",
      "PUBLICATION                                        42256 non-null object\n",
      "PUBLICATION_PUBMED                                 16382 non-null float64\n",
      "RECORD_TITLE                                       49282 non-null object\n",
      "RECORD_TITLE_DSS                                   4 non-null object\n",
      "RECORD_TITLE_HN                                    5 non-null object\n",
      "RECORD_TITLE_L                                     17 non-null object\n",
      "SP$SAMPLE                                          16405 non-null object\n",
      "STRUCTURE_FILE_NAME                                0 non-null float64\n",
      "Unnamed: 0.1                                       49308 non-null int64\n",
      "dtypes: float64(5), int64(4), object(51)\n",
      "memory usage: 22.6+ MB\n"
     ]
    }
   ],
   "source": [
    "df.info()"
   ]
  },
  {
   "cell_type": "code",
   "execution_count": 62,
   "metadata": {},
   "outputs": [
    {
     "data": {
      "text/plain": [
       "Unnamed: 0                                             0\n",
       "AC$ANALYTICAL_CONDITION_CAPILLARY_VOLTAGE          42256\n",
       "AC$ANALYTICAL_CONDITION_COLLISION_ENERGY               0\n",
       "AC$ANALYTICAL_CONDITION_DATAFORMAT                 16405\n",
       "AC$ANALYTICAL_CONDITION_FRAGMENTATION_EQUIPMENT    16405\n",
       "AC$ANALYTICAL_CONDITION_FRAGMENTATION_METHOD       16405\n",
       "AC$ANALYTICAL_CONDITION_IONIZATION                     0\n",
       "AC$ANALYTICAL_CONDITION_MODE                           0\n",
       "AC$ANALYTICAL_CONDITION_MODEL                      32903\n",
       "AC$ANALYTICAL_CONDITION_MS_TYPE                        0\n",
       "AC$ANALYTICAL_CONDITION_PRECURSOR_SELECTION        16405\n",
       "AC$ANALYTICAL_CONDITION_SAMPLING_CONE              42256\n",
       "AC$ANALYTICAL_CONDITION_SOLVENT                    26191\n",
       "AC$ANALYTICAL_CONDITION_SOURCE_TEMPERATURE         42256\n",
       "AC$ANALYTICAL_CONDITION_SPECTRUM_TYPE              16405\n",
       "AC$INSTRUMENT                                      16405\n",
       "AC$INSTRUMENT_TYPE                                 49308\n",
       "ACCESSION                                              0\n",
       "AUTHORS                                                0\n",
       "CH$COMPOUND_CLASS_CLASS1                               0\n",
       "CH$COMPOUND_CLASS_CLASS2                               3\n",
       "CH$COMPOUND_CLASS_CLASS3                           10653\n",
       "CH$EXACT_MASS                                          0\n",
       "CH$FORMULA                                          3846\n",
       "CH$INCHI                                           23457\n",
       "CH$IUPAC                                           16405\n",
       "CH$LINK                                            49306\n",
       "CH$LINK_CAS                                         8047\n",
       "CH$LINK_KEGG                                       23459\n",
       "CH$LINK_PUBCHEM                                    23457\n",
       "CH$NAME                                                5\n",
       "CH$NAME_AICAR                                      49254\n",
       "CH$NAME_AMP                                        49256\n",
       "CH$NAME_C16                                        49251\n",
       "CH$NAME_C18                                        49307\n",
       "CH$NAME_CDP                                        49267\n",
       "CH$NAME_DSS                                        49304\n",
       "CH$NAME_HN                                         49303\n",
       "CH$NAME_I3                                         49305\n",
       "CH$NAME_SAM                                        49268\n",
       "CH$NAME_U                                          49250\n",
       "CH$SMILES                                          16405\n",
       "COMMENTS                                             177\n",
       "COPYRIGHT                                              0\n",
       "DATE                                                   0\n",
       "MS$FOCUSED_ION_ION_TYPE                              223\n",
       "MS$FOCUSED_ION_PRECURSOR_M/Z                           0\n",
       "PK$NUM_PEAK                                            0\n",
       "PK$PEAK_int.                                           0\n",
       "PK$PEAK_m/z                                            0\n",
       "PK$PEAK_rel.int.                                       0\n",
       "PUBLICATION                                         7052\n",
       "PUBLICATION_PUBMED                                 32926\n",
       "RECORD_TITLE                                          26\n",
       "RECORD_TITLE_DSS                                   49304\n",
       "RECORD_TITLE_HN                                    49303\n",
       "RECORD_TITLE_L                                     49291\n",
       "SP$SAMPLE                                          32903\n",
       "STRUCTURE_FILE_NAME                                49308\n",
       "Unnamed: 0.1                                           0\n",
       "dtype: int64"
      ]
     },
     "execution_count": 62,
     "metadata": {},
     "output_type": "execute_result"
    }
   ],
   "source": [
    "df.isnull().sum()"
   ]
  },
  {
   "cell_type": "code",
   "execution_count": 63,
   "metadata": {},
   "outputs": [],
   "source": [
    "#selection des colonnes qui paraissent intéressante a priori (en foction des valeurs nulles) \n",
    "\n",
    "df = df[['ACCESSION','CH$COMPOUND_CLASS_CLASS1', 'CH$COMPOUND_CLASS_CLASS2','CH$COMPOUND_CLASS_CLASS3',\n",
    "        'AC$ANALYTICAL_CONDITION_IONIZATION',\n",
    "        'AC$ANALYTICAL_CONDITION_MS_TYPE', 'AC$ANALYTICAL_CONDITION_SOLVENT', 'AC$ANALYTICAL_CONDITION_MODE',\n",
    "        'CH$EXACT_MASS', 'CH$FORMULA','MS$FOCUSED_ION_PRECURSOR_M/Z', 'MS$FOCUSED_ION_ION_TYPE', 'PK$NUM_PEAK', \n",
    "        'PK$PEAK_m/z', 'PK$PEAK_rel.int.']]\n",
    "\n",
    "#changement de noms des colonnes\n",
    "\n",
    "df = df.rename(columns= {'CH$COMPOUND_CLASS_CLASS1': 'class1',\n",
    "                         'CH$COMPOUND_CLASS_CLASS2': 'class2',\n",
    "                         'CH$COMPOUND_CLASS_CLASS3': 'class3',\n",
    "                         'AC$ANALYTICAL_CONDITION_IONIZATION' : 'AC_ionisation',\n",
    "                         'AC$ANALYTICAL_CONDITION_MS_TYPE' : 'AC_ms_type',\n",
    "                         'AC$ANALYTICAL_CONDITION_SOLVENT':'AC_solvent',                   \n",
    "                         'AC$ANALYTICAL_CONDITION_MODE' : 'AC_mode',\n",
    "                         'CH$EXACT_MASS' : 'exact_mass',\n",
    "                         'CH$FORMULA' : 'formule',\n",
    "                         'MS$FOCUSED_ION_PRECURSOR_M/Z': 'ion_precursor_m/z',\n",
    "                         'MS$FOCUSED_ION_ION_TYPE': 'ion_type',\n",
    "                         'PK$NUM_PEAK': 'num_peak',\n",
    "                         'PK$PEAK_m/z' : 'peak_m/z',\n",
    "                         'PK$PEAK_rel.int.' : 'peak_rel.int.'})"
   ]
  },
  {
   "cell_type": "code",
   "execution_count": 64,
   "metadata": {},
   "outputs": [
    {
     "name": "stdout",
     "output_type": "stream",
     "text": [
      "<class 'pandas.core.frame.DataFrame'>\n",
      "RangeIndex: 49308 entries, 0 to 49307\n",
      "Data columns (total 15 columns):\n",
      "ACCESSION            49308 non-null object\n",
      "class1               49308 non-null object\n",
      "class2               49305 non-null object\n",
      "class3               38655 non-null object\n",
      "AC_ionisation        49308 non-null object\n",
      "AC_ms_type           49308 non-null object\n",
      "AC_solvent           23117 non-null object\n",
      "AC_mode              49308 non-null object\n",
      "exact_mass           49308 non-null object\n",
      "formule              45462 non-null object\n",
      "ion_precursor_m/z    49308 non-null object\n",
      "ion_type             49085 non-null object\n",
      "num_peak             49308 non-null int64\n",
      "peak_m/z             49308 non-null float64\n",
      "peak_rel.int.        49308 non-null int64\n",
      "dtypes: float64(1), int64(2), object(12)\n",
      "memory usage: 5.6+ MB\n",
      "None \n",
      "\n",
      "  ACCESSION class1 class2 class3 AC_ionisation AC_ms_type       AC_solvent  \\\n",
      "0  PM000101  Other  Other  Other           ESI        QqQ  H2O/CH3OH/CH3CN   \n",
      "1  PM000101  Other  Other  Other           ESI        QqQ  H2O/CH3OH/CH3CN   \n",
      "2  PM000101  Other  Other  Other           ESI        QqQ  H2O/CH3OH/CH3CN   \n",
      "\n",
      "    AC_mode exact_mass   formule ion_precursor_m/z  ion_type  num_peak  \\\n",
      "0  positive    314.14   C15H22O7               332  [M+NH4]+         7   \n",
      "1  positive    314.14   C15H22O7               332  [M+NH4]+         7   \n",
      "2  positive    314.14   C15H22O7               332  [M+NH4]+         7   \n",
      "\n",
      "   peak_m/z  peak_rel.int.  \n",
      "0     297.0             29  \n",
      "1     179.0             22  \n",
      "2     163.0             10  \n"
     ]
    }
   ],
   "source": [
    "print(df.info(), '\\n')\n",
    "print(df.head(3))"
   ]
  },
  {
   "cell_type": "code",
   "execution_count": 65,
   "metadata": {},
   "outputs": [
    {
     "name": "stdout",
     "output_type": "stream",
     "text": [
      "Nombres de valeurs Other dans les classes: \n",
      "\n",
      "Nb Other class1:  15058\n",
      "Nb Other class2:  3611\n",
      "Nb Other class3:  1664 \n",
      "\n",
      "******************** \n",
      "\n",
      "Nombres de valeurs nulles dans les classes: \n",
      "\n",
      "Valeurs nulles class1: 0\n",
      "Valeurs nulles class2: 3\n",
      "Valeurs nulles class3: 10653\n"
     ]
    }
   ],
   "source": [
    "# Vérifications des valeurs des classes\n",
    "\n",
    "print('Nombres de valeurs Other dans les classes: \\n')\n",
    "print( 'Nb Other class1: ', (df['class1'] == 'Other').value_counts()[1])\n",
    "print( 'Nb Other class2: ', (df['class2'] == 'Other').value_counts()[1])\n",
    "print( 'Nb Other class3: ', (df['class3'] == 'Other').value_counts()[1], '\\n')\n",
    "print(('********************'), '\\n')\n",
    "print('Nombres de valeurs nulles dans les classes: \\n')\n",
    "print('Valeurs nulles class1:', pd.isnull(df['class1']).sum())\n",
    "print('Valeurs nulles class2:', pd.isnull(df['class2']).sum())\n",
    "print('Valeurs nulles class3:', pd.isnull(df['class3']).sum())"
   ]
  },
  {
   "cell_type": "code",
   "execution_count": 66,
   "metadata": {},
   "outputs": [
    {
     "name": "stderr",
     "output_type": "stream",
     "text": [
      "C:\\Users\\marin\\Anaconda3\\lib\\site-packages\\pandas\\core\\indexing.py:543: SettingWithCopyWarning: \n",
      "A value is trying to be set on a copy of a slice from a DataFrame.\n",
      "Try using .loc[row_indexer,col_indexer] = value instead\n",
      "\n",
      "See the caveats in the documentation: http://pandas.pydata.org/pandas-docs/stable/indexing.html#indexing-view-versus-copy\n",
      "  self.obj[item] = s\n"
     ]
    },
    {
     "name": "stdout",
     "output_type": "stream",
     "text": [
      "Nombres de valeurs Other dans les classes: \n",
      "\n",
      "Nb Other class1:  False    48112\n",
      "Name: class1, dtype: int64\n",
      "Nb Other class2:  False    48112\n",
      "Name: class2, dtype: int64\n",
      "Nb Other class3:  False    48112\n",
      "Name: class3, dtype: int64 \n",
      "\n",
      "******************** \n",
      "\n",
      "Nombres de valeurs nulles dans les classes: \n",
      "\n",
      "Valeurs nulles class1: 0\n",
      "Valeurs nulles class2: 0\n",
      "Valeurs nulles class3: 0\n"
     ]
    }
   ],
   "source": [
    "# remplacement des valeurs nulles par la classe 'other'\n",
    "\n",
    "df['class2'] = df['class2'].fillna('Other')\n",
    "df['class3'] = df['class3'].fillna('Other')\n",
    "\n",
    "# suppression des lignes pour lesquelles les 3 classes sont 'Other'\n",
    "\n",
    "df1 = df[(df['class1'] != 'Other') | (df['class2'] != 'Other') | (df['class3'] != 'Other')]\n",
    "\n",
    "# remplacement des valeurs 'Other' par les classes adjacentes\n",
    "\n",
    "df1.loc[df1.class3 == 'Other', 'class3'] = df1.loc[df1.class3 == 'Other', 'class2']\n",
    "df1.loc[df1.class3 == 'Other', 'class3'] = df1.loc[df1.class3 == 'Other', 'class1']\n",
    "df1.loc[df1.class2 == 'Other', 'class2'] = df1.loc[df1.class2 == 'Other', 'class3']\n",
    "df1.loc[df1.class2 == 'Other', 'class2'] = df1.loc[df1.class2 == 'Other', 'class1']\n",
    "df1.loc[df1.class1 == 'Other', 'class1'] = df1.loc[df1.class1 == 'Other', 'class2']\n",
    "df1.loc[df1.class1 == 'Other', 'class1'] = df1.loc[df1.class1 == 'Other', 'class3']\n",
    "\n",
    "\n",
    "# vérification\n",
    "print('Nombres de valeurs Other dans les classes: \\n')\n",
    "print( 'Nb Other class1: ', (df1['class1'] == 'Other').value_counts())\n",
    "print( 'Nb Other class2: ', (df1['class2'] == 'Other').value_counts())\n",
    "print( 'Nb Other class3: ', (df1['class3'] == 'Other').value_counts(), '\\n')\n",
    "print(('********************'), '\\n')\n",
    "print('Nombres de valeurs nulles dans les classes: \\n')\n",
    "print('Valeurs nulles class1:', pd.isnull(df1['class1']).sum())\n",
    "print('Valeurs nulles class2:', pd.isnull(df1['class2']).sum())\n",
    "print('Valeurs nulles class3:', pd.isnull(df1['class3']).sum())"
   ]
  },
  {
   "cell_type": "code",
   "execution_count": 67,
   "metadata": {},
   "outputs": [
    {
     "data": {
      "text/html": [
       "<div>\n",
       "<style scoped>\n",
       "    .dataframe tbody tr th:only-of-type {\n",
       "        vertical-align: middle;\n",
       "    }\n",
       "\n",
       "    .dataframe tbody tr th {\n",
       "        vertical-align: top;\n",
       "    }\n",
       "\n",
       "    .dataframe thead th {\n",
       "        text-align: right;\n",
       "    }\n",
       "</style>\n",
       "<table border=\"1\" class=\"dataframe\">\n",
       "  <thead>\n",
       "    <tr style=\"text-align: right;\">\n",
       "      <th></th>\n",
       "      <th>ACCESSION</th>\n",
       "      <th>class1</th>\n",
       "      <th>class2</th>\n",
       "      <th>class3</th>\n",
       "      <th>AC_ionisation</th>\n",
       "      <th>AC_ms_type</th>\n",
       "      <th>AC_solvent</th>\n",
       "      <th>AC_mode</th>\n",
       "      <th>exact_mass</th>\n",
       "      <th>formule</th>\n",
       "      <th>ion_precursor_m/z</th>\n",
       "      <th>ion_type</th>\n",
       "      <th>num_peak</th>\n",
       "      <th>peak_m/z</th>\n",
       "      <th>peak_rel.int.</th>\n",
       "    </tr>\n",
       "  </thead>\n",
       "  <tbody>\n",
       "    <tr>\n",
       "      <th>7</th>\n",
       "      <td>PM000102</td>\n",
       "      <td>Phenylpropanoid</td>\n",
       "      <td>Phenylpropanoid glycoside</td>\n",
       "      <td>Phenylpropanoid glycoside</td>\n",
       "      <td>ESI</td>\n",
       "      <td>QqQ</td>\n",
       "      <td>H2O/CH3OH/CH3CN</td>\n",
       "      <td>positive</td>\n",
       "      <td>298.14</td>\n",
       "      <td>C15H22O6</td>\n",
       "      <td>316</td>\n",
       "      <td>[M+NH4]+</td>\n",
       "      <td>8</td>\n",
       "      <td>299.0</td>\n",
       "      <td>3</td>\n",
       "    </tr>\n",
       "    <tr>\n",
       "      <th>8</th>\n",
       "      <td>PM000102</td>\n",
       "      <td>Phenylpropanoid</td>\n",
       "      <td>Phenylpropanoid glycoside</td>\n",
       "      <td>Phenylpropanoid glycoside</td>\n",
       "      <td>ESI</td>\n",
       "      <td>QqQ</td>\n",
       "      <td>H2O/CH3OH/CH3CN</td>\n",
       "      <td>positive</td>\n",
       "      <td>298.14</td>\n",
       "      <td>C15H22O6</td>\n",
       "      <td>316</td>\n",
       "      <td>[M+NH4]+</td>\n",
       "      <td>8</td>\n",
       "      <td>180.0</td>\n",
       "      <td>10</td>\n",
       "    </tr>\n",
       "    <tr>\n",
       "      <th>9</th>\n",
       "      <td>PM000102</td>\n",
       "      <td>Phenylpropanoid</td>\n",
       "      <td>Phenylpropanoid glycoside</td>\n",
       "      <td>Phenylpropanoid glycoside</td>\n",
       "      <td>ESI</td>\n",
       "      <td>QqQ</td>\n",
       "      <td>H2O/CH3OH/CH3CN</td>\n",
       "      <td>positive</td>\n",
       "      <td>298.14</td>\n",
       "      <td>C15H22O6</td>\n",
       "      <td>316</td>\n",
       "      <td>[M+NH4]+</td>\n",
       "      <td>8</td>\n",
       "      <td>163.0</td>\n",
       "      <td>100</td>\n",
       "    </tr>\n",
       "  </tbody>\n",
       "</table>\n",
       "</div>"
      ],
      "text/plain": [
       "  ACCESSION           class1                     class2  \\\n",
       "7  PM000102  Phenylpropanoid  Phenylpropanoid glycoside   \n",
       "8  PM000102  Phenylpropanoid  Phenylpropanoid glycoside   \n",
       "9  PM000102  Phenylpropanoid  Phenylpropanoid glycoside   \n",
       "\n",
       "                      class3 AC_ionisation AC_ms_type       AC_solvent  \\\n",
       "7  Phenylpropanoid glycoside           ESI        QqQ  H2O/CH3OH/CH3CN   \n",
       "8  Phenylpropanoid glycoside           ESI        QqQ  H2O/CH3OH/CH3CN   \n",
       "9  Phenylpropanoid glycoside           ESI        QqQ  H2O/CH3OH/CH3CN   \n",
       "\n",
       "    AC_mode exact_mass   formule ion_precursor_m/z  ion_type  num_peak  \\\n",
       "7  positive    298.14   C15H22O6               316  [M+NH4]+         8   \n",
       "8  positive    298.14   C15H22O6               316  [M+NH4]+         8   \n",
       "9  positive    298.14   C15H22O6               316  [M+NH4]+         8   \n",
       "\n",
       "   peak_m/z  peak_rel.int.  \n",
       "7     299.0              3  \n",
       "8     180.0             10  \n",
       "9     163.0            100  "
      ]
     },
     "execution_count": 67,
     "metadata": {},
     "output_type": "execute_result"
    }
   ],
   "source": [
    "df1.head(3)"
   ]
  },
  {
   "cell_type": "code",
   "execution_count": 51,
   "metadata": {},
   "outputs": [
    {
     "name": "stderr",
     "output_type": "stream",
     "text": [
      "C:\\Users\\marin\\Anaconda3\\lib\\site-packages\\ipykernel_launcher.py:1: SettingWithCopyWarning: \n",
      "A value is trying to be set on a copy of a slice from a DataFrame.\n",
      "Try using .loc[row_indexer,col_indexer] = value instead\n",
      "\n",
      "See the caveats in the documentation: http://pandas.pydata.org/pandas-docs/stable/indexing.html#indexing-view-versus-copy\n",
      "  \"\"\"Entry point for launching an IPython kernel.\n",
      "C:\\Users\\marin\\Anaconda3\\lib\\site-packages\\ipykernel_launcher.py:2: SettingWithCopyWarning: \n",
      "A value is trying to be set on a copy of a slice from a DataFrame.\n",
      "Try using .loc[row_indexer,col_indexer] = value instead\n",
      "\n",
      "See the caveats in the documentation: http://pandas.pydata.org/pandas-docs/stable/indexing.html#indexing-view-versus-copy\n",
      "  \n"
     ]
    }
   ],
   "source": [
    "df1['AC_mode'] = df1['AC_mode'].replace(['POSITIVE', 'NEGATIVE'], ['positive', 'negative'])\n",
    "df1['AC_mode'] = df1['AC_mode'].replace(['positive', 'negative'], [0, 1])"
   ]
  },
  {
   "cell_type": "code",
   "execution_count": 68,
   "metadata": {},
   "outputs": [],
   "source": [
    "# suppression des lignes empechant la transformation en float de 'ion_precursor_m/z'\n",
    "\n",
    "df1 = df1[(df1['ion_precursor_m/z'] != 'n.d')]\n",
    "df1 = df1[(df1['ion_precursor_m/z'] != '590.4495 1.315 590.0900 7.802 589.9528 1.134 444.0505 2.504')]\n",
    "df1 = df1[(df1['ion_precursor_m/z'] != '397.0512 1.319 355.7804 1.407 112.0057 4.659 111.5095 1.644 111.0105 12.08 100.5019 8.783 100.0036 3.503 99.5037 25.11 98.5028 1.863 91.4973 1.524 90.5158 3.989 90.4982 6.122 81.5140 2.187 79.0122 1.698 75.0224 1.338 70.0075 2.423')]\n",
    "\n",
    "#transformation de 'ion_precursor_m/z' en float\n",
    "\n",
    "df1['ion_precursor_m/z'] = df1['ion_precursor_m/z'].astype(float)"
   ]
  },
  {
   "cell_type": "code",
   "execution_count": 69,
   "metadata": {},
   "outputs": [],
   "source": [
    "# suppression des lignes empechant la transformation en float de 'exact_mass'\n",
    "\n",
    "df1 = df1[(df1['exact_mass'] != 'no data')]\n",
    "df1 = df1[(df1['exact_mass'] != '0')]\n",
    "df1 = df1[(df1['exact_mass'] != '0.00')]\n",
    "df1 = df1[(df1['exact_mass'] != '0.00 ')]\n",
    "df1 = df1[(df1['exact_mass'] != '-')]\n",
    "df1 = df1[(df1['exact_mass'] != 'n.d')]\n",
    "\n",
    "#transformation de 'exact_mass' en float\n",
    "df1['exact_mass'] = df1['exact_mass'].astype(float)"
   ]
  },
  {
   "cell_type": "code",
   "execution_count": 70,
   "metadata": {},
   "outputs": [
    {
     "name": "stdout",
     "output_type": "stream",
     "text": [
      "Valeurs nulles solvent: 25676 \n",
      "\n",
      "Valeurs nulles solvent: 0 \n",
      "\n"
     ]
    }
   ],
   "source": [
    "print('Valeurs nulles solvent:', df1['AC_solvent'].isnull().sum(), '\\n')\n",
    "\n",
    "df1['AC_solvent'] = df1['AC_solvent'].fillna('no_data')\n",
    "\n",
    "print('Valeurs nulles solvent:', df1['AC_solvent'].isnull().sum(), '\\n')"
   ]
  },
  {
   "cell_type": "code",
   "execution_count": 77,
   "metadata": {},
   "outputs": [],
   "source": [
    "# ajout de la colonne precence_solvent\n",
    "\n",
    "\n",
    "Presence_solvent = []\n",
    "for i in df1.index : \n",
    "    if df1['AC_solvent'][i] == 'no_data' :\n",
    "        presence_solvent == 0\n",
    "    if df1['AC_solvent'][i] != 'no_data' :\n",
    "        presence_solvent == 1\n",
    "        \n",
    "    Presence_solvent.append(presence_solvent)\n",
    "    \n",
    "df1['presence_solvent'] = Presence_solvent\n"
   ]
  },
  {
   "cell_type": "code",
   "execution_count": 78,
   "metadata": {},
   "outputs": [
    {
     "name": "stdout",
     "output_type": "stream",
     "text": [
      "<class 'pandas.core.frame.DataFrame'>\n",
      "Int64Index: 44524 entries, 7 to 49307\n",
      "Data columns (total 16 columns):\n",
      "ACCESSION            44524 non-null object\n",
      "class1               44524 non-null object\n",
      "class2               44524 non-null object\n",
      "class3               44524 non-null object\n",
      "AC_ionisation        44524 non-null object\n",
      "AC_ms_type           44524 non-null object\n",
      "AC_solvent           44524 non-null object\n",
      "AC_mode              44524 non-null object\n",
      "exact_mass           44524 non-null float64\n",
      "formule              44499 non-null object\n",
      "ion_precursor_m/z    44524 non-null float64\n",
      "ion_type             44370 non-null object\n",
      "num_peak             44524 non-null int64\n",
      "peak_m/z             44524 non-null float64\n",
      "peak_rel.int.        44524 non-null int64\n",
      "presence_solvent     44524 non-null object\n",
      "dtypes: float64(3), int64(2), object(11)\n",
      "memory usage: 7.0+ MB\n"
     ]
    }
   ],
   "source": [
    "df1.info()"
   ]
  },
  {
   "cell_type": "code",
   "execution_count": 79,
   "metadata": {},
   "outputs": [
    {
     "name": "stdout",
     "output_type": "stream",
     "text": [
      "count                    44524\n",
      "unique                     761\n",
      "top       Kaempferol glycoside\n",
      "freq                      3344\n",
      "Name: class3, dtype: object\n",
      "count        44524\n",
      "unique         214\n",
      "top       Flavonol\n",
      "freq          8088\n",
      "Name: class2, dtype: object\n",
      "count         44524\n",
      "unique          106\n",
      "top       Flavonoid\n",
      "freq          15489\n",
      "Name: class1, dtype: object\n"
     ]
    }
   ],
   "source": [
    "print(df1['class3'].describe())\n",
    "print(df1['class2'].describe())\n",
    "print(df1['class1'].describe())"
   ]
  },
  {
   "cell_type": "code",
   "execution_count": 80,
   "metadata": {},
   "outputs": [],
   "source": [
    "df2 = df1[['ACCESSION','class1', 'class2', 'class3', 'AC_mode', 'ion_precursor_m/z', 'peak_m/z', 'peak_rel.int.' ]]"
   ]
  },
  {
   "cell_type": "code",
   "execution_count": 81,
   "metadata": {},
   "outputs": [],
   "source": [
    "df1.to_csv('fulldata_complete_selection.csv')\n",
    "df2.to_csv('fulldata_colonnes_essentielles.csv')"
   ]
  },
  {
   "cell_type": "code",
   "execution_count": null,
   "metadata": {},
   "outputs": [],
   "source": [
    "#préprocessing\n",
    "\n",
    "df1 = df1.join(pd.get_dummies(df['AC_solvent'], prefix='solvent'))\n",
    "df1 = df1.drop(['AC_solvent', 'solvent_no_data'], 1)\n",
    "\n",
    "df1 = df1.join(pd.get_dummies(df['focused_ion_type'], prefix='focused_ion_type'))\n",
    "df1 = df1.drop('focused_ion_type', 1)\n",
    "\n",
    "df1 = df1.join(pd.get_dummies(df['AC_ionisation'], prefix='ionisation'))\n",
    "df1 = df1.drop('AC_ionisation', 1)\n",
    "\n",
    "df1 = df1.join(pd.get_dummies(df['AC_ms_type'], prefix='ms_type'))\n",
    "df1 = df1.drop('AC_ms_type', 1)\n",
    "\n",
    "df1 = df1.join(pd.get_dummies(df['formule'], prefix='formule'))\n",
    "df1 = df1.drop('formule', 1)\n",
    "\n",
    "df1 = df1.join(pd.get_dummies(df['ion_type'], prefix='ion_type'))\n",
    "df1 = df1.drop('ion_type', 1)\n",
    "\n"
   ]
  }
 ],
 "metadata": {
  "kernelspec": {
   "display_name": "Python 3",
   "language": "python",
   "name": "python3"
  },
  "language_info": {
   "codemirror_mode": {
    "name": "ipython",
    "version": 3
   },
   "file_extension": ".py",
   "mimetype": "text/x-python",
   "name": "python",
   "nbconvert_exporter": "python",
   "pygments_lexer": "ipython3",
   "version": "3.6.5"
  }
 },
 "nbformat": 4,
 "nbformat_minor": 2
}
