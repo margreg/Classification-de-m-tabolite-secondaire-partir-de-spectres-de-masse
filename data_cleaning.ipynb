{
 "cells": [
  {
   "cell_type": "code",
   "execution_count": 143,
   "metadata": {},
   "outputs": [
    {
     "name": "stderr",
     "output_type": "stream",
     "text": [
      "C:\\Users\\marin\\Anaconda3\\lib\\site-packages\\IPython\\core\\interactiveshell.py:2785: DtypeWarning: Columns (1,2,3,4,5,8,10,11,12,13,14,15,22,24,25,26,28,29,31,32,33,34,35,36,37,38,39,40,41,46,54,55,56,57) have mixed types. Specify dtype option on import or set low_memory=False.\n",
      "  interactivity=interactivity, compiler=compiler, result=result)\n"
     ]
    }
   ],
   "source": [
    "import pandas as pd\n",
    "\n",
    "df = pd.read_csv('fulldata.csv')\n"
   ]
  },
  {
   "cell_type": "code",
   "execution_count": 144,
   "metadata": {},
   "outputs": [
    {
     "name": "stdout",
     "output_type": "stream",
     "text": [
      "<class 'pandas.core.frame.DataFrame'>\n",
      "RangeIndex: 49308 entries, 0 to 49307\n",
      "Data columns (total 60 columns):\n",
      "Unnamed: 0                                         49308 non-null int64\n",
      "AC$ANALYTICAL_CONDITION_CAPILLARY_VOLTAGE          7052 non-null object\n",
      "AC$ANALYTICAL_CONDITION_COLLISION_ENERGY           49308 non-null object\n",
      "AC$ANALYTICAL_CONDITION_DATAFORMAT                 32903 non-null object\n",
      "AC$ANALYTICAL_CONDITION_FRAGMENTATION_EQUIPMENT    32903 non-null object\n",
      "AC$ANALYTICAL_CONDITION_FRAGMENTATION_METHOD       32903 non-null object\n",
      "AC$ANALYTICAL_CONDITION_IONIZATION                 49308 non-null object\n",
      "AC$ANALYTICAL_CONDITION_MODE                       49308 non-null object\n",
      "AC$ANALYTICAL_CONDITION_MODEL                      16405 non-null object\n",
      "AC$ANALYTICAL_CONDITION_MS_TYPE                    49308 non-null object\n",
      "AC$ANALYTICAL_CONDITION_PRECURSOR_SELECTION        32903 non-null object\n",
      "AC$ANALYTICAL_CONDITION_SAMPLING_CONE              7052 non-null object\n",
      "AC$ANALYTICAL_CONDITION_SOLVENT                    23117 non-null object\n",
      "AC$ANALYTICAL_CONDITION_SOURCE_TEMPERATURE         7052 non-null object\n",
      "AC$ANALYTICAL_CONDITION_SPECTRUM_TYPE              32903 non-null object\n",
      "AC$INSTRUMENT                                      32903 non-null object\n",
      "AC$INSTRUMENT_TYPE                                 0 non-null float64\n",
      "ACCESSION                                          49308 non-null object\n",
      "AUTHORS                                            49308 non-null object\n",
      "CH$COMPOUND_CLASS_CLASS1                           49308 non-null object\n",
      "CH$COMPOUND_CLASS_CLASS2                           49305 non-null object\n",
      "CH$COMPOUND_CLASS_CLASS3                           38655 non-null object\n",
      "CH$EXACT_MASS                                      49308 non-null object\n",
      "CH$FORMULA                                         45462 non-null object\n",
      "CH$INCHI                                           25851 non-null object\n",
      "CH$IUPAC                                           32903 non-null object\n",
      "CH$LINK                                            2 non-null object\n",
      "CH$LINK_CAS                                        41261 non-null object\n",
      "CH$LINK_KEGG                                       25849 non-null object\n",
      "CH$LINK_PUBCHEM                                    25851 non-null object\n",
      "CH$NAME                                            49303 non-null object\n",
      "CH$NAME_AICAR                                      54 non-null object\n",
      "CH$NAME_AMP                                        52 non-null object\n",
      "CH$NAME_C16                                        57 non-null object\n",
      "CH$NAME_C18                                        1 non-null object\n",
      "CH$NAME_CDP                                        41 non-null object\n",
      "CH$NAME_DSS                                        4 non-null object\n",
      "CH$NAME_HN                                         5 non-null object\n",
      "CH$NAME_I3                                         3 non-null object\n",
      "CH$NAME_SAM                                        40 non-null object\n",
      "CH$NAME_U                                          58 non-null object\n",
      "CH$SMILES                                          32903 non-null object\n",
      "COMMENTS                                           49131 non-null object\n",
      "COPYRIGHT                                          49308 non-null object\n",
      "DATE                                               49308 non-null object\n",
      "MS$FOCUSED_ION_ION_TYPE                            49085 non-null object\n",
      "MS$FOCUSED_ION_PRECURSOR_M/Z                       49308 non-null object\n",
      "PK$NUM_PEAK                                        49308 non-null int64\n",
      "PK$PEAK_int.                                       49308 non-null float64\n",
      "PK$PEAK_m/z                                        49308 non-null float64\n",
      "PK$PEAK_rel.int.                                   49308 non-null int64\n",
      "PUBLICATION                                        42256 non-null object\n",
      "PUBLICATION_PUBMED                                 16382 non-null float64\n",
      "RECORD_TITLE                                       49282 non-null object\n",
      "RECORD_TITLE_DSS                                   4 non-null object\n",
      "RECORD_TITLE_HN                                    5 non-null object\n",
      "RECORD_TITLE_L                                     17 non-null object\n",
      "SP$SAMPLE                                          16405 non-null object\n",
      "STRUCTURE_FILE_NAME                                0 non-null float64\n",
      "Unnamed: 0.1                                       49308 non-null int64\n",
      "dtypes: float64(5), int64(4), object(51)\n",
      "memory usage: 22.6+ MB\n"
     ]
    }
   ],
   "source": [
    "df.info()"
   ]
  },
  {
   "cell_type": "code",
   "execution_count": 145,
   "metadata": {},
   "outputs": [
    {
     "data": {
      "text/plain": [
       "Unnamed: 0                                             0\n",
       "AC$ANALYTICAL_CONDITION_CAPILLARY_VOLTAGE          42256\n",
       "AC$ANALYTICAL_CONDITION_COLLISION_ENERGY               0\n",
       "AC$ANALYTICAL_CONDITION_DATAFORMAT                 16405\n",
       "AC$ANALYTICAL_CONDITION_FRAGMENTATION_EQUIPMENT    16405\n",
       "AC$ANALYTICAL_CONDITION_FRAGMENTATION_METHOD       16405\n",
       "AC$ANALYTICAL_CONDITION_IONIZATION                     0\n",
       "AC$ANALYTICAL_CONDITION_MODE                           0\n",
       "AC$ANALYTICAL_CONDITION_MODEL                      32903\n",
       "AC$ANALYTICAL_CONDITION_MS_TYPE                        0\n",
       "AC$ANALYTICAL_CONDITION_PRECURSOR_SELECTION        16405\n",
       "AC$ANALYTICAL_CONDITION_SAMPLING_CONE              42256\n",
       "AC$ANALYTICAL_CONDITION_SOLVENT                    26191\n",
       "AC$ANALYTICAL_CONDITION_SOURCE_TEMPERATURE         42256\n",
       "AC$ANALYTICAL_CONDITION_SPECTRUM_TYPE              16405\n",
       "AC$INSTRUMENT                                      16405\n",
       "AC$INSTRUMENT_TYPE                                 49308\n",
       "ACCESSION                                              0\n",
       "AUTHORS                                                0\n",
       "CH$COMPOUND_CLASS_CLASS1                               0\n",
       "CH$COMPOUND_CLASS_CLASS2                               3\n",
       "CH$COMPOUND_CLASS_CLASS3                           10653\n",
       "CH$EXACT_MASS                                          0\n",
       "CH$FORMULA                                          3846\n",
       "CH$INCHI                                           23457\n",
       "CH$IUPAC                                           16405\n",
       "CH$LINK                                            49306\n",
       "CH$LINK_CAS                                         8047\n",
       "CH$LINK_KEGG                                       23459\n",
       "CH$LINK_PUBCHEM                                    23457\n",
       "CH$NAME                                                5\n",
       "CH$NAME_AICAR                                      49254\n",
       "CH$NAME_AMP                                        49256\n",
       "CH$NAME_C16                                        49251\n",
       "CH$NAME_C18                                        49307\n",
       "CH$NAME_CDP                                        49267\n",
       "CH$NAME_DSS                                        49304\n",
       "CH$NAME_HN                                         49303\n",
       "CH$NAME_I3                                         49305\n",
       "CH$NAME_SAM                                        49268\n",
       "CH$NAME_U                                          49250\n",
       "CH$SMILES                                          16405\n",
       "COMMENTS                                             177\n",
       "COPYRIGHT                                              0\n",
       "DATE                                                   0\n",
       "MS$FOCUSED_ION_ION_TYPE                              223\n",
       "MS$FOCUSED_ION_PRECURSOR_M/Z                           0\n",
       "PK$NUM_PEAK                                            0\n",
       "PK$PEAK_int.                                           0\n",
       "PK$PEAK_m/z                                            0\n",
       "PK$PEAK_rel.int.                                       0\n",
       "PUBLICATION                                         7052\n",
       "PUBLICATION_PUBMED                                 32926\n",
       "RECORD_TITLE                                          26\n",
       "RECORD_TITLE_DSS                                   49304\n",
       "RECORD_TITLE_HN                                    49303\n",
       "RECORD_TITLE_L                                     49291\n",
       "SP$SAMPLE                                          32903\n",
       "STRUCTURE_FILE_NAME                                49308\n",
       "Unnamed: 0.1                                           0\n",
       "dtype: int64"
      ]
     },
     "execution_count": 145,
     "metadata": {},
     "output_type": "execute_result"
    }
   ],
   "source": [
    "df.isnull().sum()"
   ]
  },
  {
   "cell_type": "code",
   "execution_count": 146,
   "metadata": {},
   "outputs": [],
   "source": [
    "#selection des colonnes qui paraissent intéressante a priori\n",
    "\n",
    "df = df[['ACCESSION','CH$NAME', 'CH$COMPOUND_CLASS_CLASS1', 'CH$COMPOUND_CLASS_CLASS2','CH$COMPOUND_CLASS_CLASS3',\n",
    "        'AC$ANALYTICAL_CONDITION_SOLVENT', 'AC$ANALYTICAL_CONDITION_MODE',\n",
    "        'CH$EXACT_MASS', 'CH$FORMULA','MS$FOCUSED_ION_PRECURSOR_M/Z', 'MS$FOCUSED_ION_ION_TYPE', 'PK$NUM_PEAK', \n",
    "        'PK$PEAK_m/z', 'PK$PEAK_rel.int.']]\n"
   ]
  },
  {
   "cell_type": "code",
   "execution_count": 147,
   "metadata": {},
   "outputs": [],
   "source": [
    "df = df.rename(columns= {'CH$NAME' : 'nom_molecule',\n",
    "                         'CH$COMPOUND_CLASS_CLASS1': 'class1',\n",
    "                         'CH$COMPOUND_CLASS_CLASS2': 'class2',\n",
    "                         'CH$COMPOUND_CLASS_CLASS3': 'class3',\n",
    "                         'AC$ANALYTICAL_CONDITION_SOLVENT':'AC_solvent',                   \n",
    "                         'AC$ANALYTICAL_CONDITION_MODE' : 'AC_mode',\n",
    "                         'CH$EXACT_MASS' : 'exact_mass',\n",
    "                         'CH$FORMULA' : 'formule',\n",
    "                         'MS$FOCUSED_ION_PRECURSOR_M/Z': 'ion_precursor_m/z',\n",
    "                         'MS$FOCUSED_ION_ION_TYPE': 'focused_ion_type',\n",
    "                         'PK$NUM_PEAK': 'num_peak',\n",
    "                         'PK$PEAK_m/z' : 'peak_m/z',\n",
    "                         'PK$PEAK_rel.int.' : 'peak_rel.int.'})"
   ]
  },
  {
   "cell_type": "code",
   "execution_count": 148,
   "metadata": {},
   "outputs": [
    {
     "name": "stdout",
     "output_type": "stream",
     "text": [
      "<class 'pandas.core.frame.DataFrame'>\n",
      "RangeIndex: 49308 entries, 0 to 49307\n",
      "Data columns (total 14 columns):\n",
      "ACCESSION            49308 non-null object\n",
      "nom_molecule         49303 non-null object\n",
      "class1               49308 non-null object\n",
      "class2               49305 non-null object\n",
      "class3               38655 non-null object\n",
      "AC_solvent           23117 non-null object\n",
      "AC_mode              49308 non-null object\n",
      "exact_mass           49308 non-null object\n",
      "formule              45462 non-null object\n",
      "ion_precursor_m/z    49308 non-null object\n",
      "focused_ion_type     49085 non-null object\n",
      "num_peak             49308 non-null int64\n",
      "peak_m/z             49308 non-null float64\n",
      "peak_rel.int.        49308 non-null int64\n",
      "dtypes: float64(1), int64(2), object(11)\n",
      "memory usage: 5.3+ MB\n"
     ]
    }
   ],
   "source": [
    "df.info()"
   ]
  },
  {
   "cell_type": "code",
   "execution_count": 149,
   "metadata": {},
   "outputs": [
    {
     "data": {
      "text/html": [
       "<div>\n",
       "<style scoped>\n",
       "    .dataframe tbody tr th:only-of-type {\n",
       "        vertical-align: middle;\n",
       "    }\n",
       "\n",
       "    .dataframe tbody tr th {\n",
       "        vertical-align: top;\n",
       "    }\n",
       "\n",
       "    .dataframe thead th {\n",
       "        text-align: right;\n",
       "    }\n",
       "</style>\n",
       "<table border=\"1\" class=\"dataframe\">\n",
       "  <thead>\n",
       "    <tr style=\"text-align: right;\">\n",
       "      <th></th>\n",
       "      <th>ACCESSION</th>\n",
       "      <th>nom_molecule</th>\n",
       "      <th>class1</th>\n",
       "      <th>class2</th>\n",
       "      <th>class3</th>\n",
       "      <th>AC_solvent</th>\n",
       "      <th>AC_mode</th>\n",
       "      <th>exact_mass</th>\n",
       "      <th>formule</th>\n",
       "      <th>ion_precursor_m/z</th>\n",
       "      <th>focused_ion_type</th>\n",
       "      <th>num_peak</th>\n",
       "      <th>peak_m/z</th>\n",
       "      <th>peak_rel.int.</th>\n",
       "    </tr>\n",
       "  </thead>\n",
       "  <tbody>\n",
       "    <tr>\n",
       "      <th>0</th>\n",
       "      <td>PM000101</td>\n",
       "      <td>2-Hydroxy-3-phenylpropyl-b-D-glucopyranoside</td>\n",
       "      <td>Other</td>\n",
       "      <td>Other</td>\n",
       "      <td>Other</td>\n",
       "      <td>H2O/CH3OH/CH3CN</td>\n",
       "      <td>positive</td>\n",
       "      <td>314.14</td>\n",
       "      <td>C15H22O7</td>\n",
       "      <td>332</td>\n",
       "      <td>[M+NH4]+</td>\n",
       "      <td>7</td>\n",
       "      <td>297.0</td>\n",
       "      <td>29</td>\n",
       "    </tr>\n",
       "    <tr>\n",
       "      <th>1</th>\n",
       "      <td>PM000101</td>\n",
       "      <td>2-Hydroxy-3-phenylpropyl-b-D-glucopyranoside</td>\n",
       "      <td>Other</td>\n",
       "      <td>Other</td>\n",
       "      <td>Other</td>\n",
       "      <td>H2O/CH3OH/CH3CN</td>\n",
       "      <td>positive</td>\n",
       "      <td>314.14</td>\n",
       "      <td>C15H22O7</td>\n",
       "      <td>332</td>\n",
       "      <td>[M+NH4]+</td>\n",
       "      <td>7</td>\n",
       "      <td>179.0</td>\n",
       "      <td>22</td>\n",
       "    </tr>\n",
       "    <tr>\n",
       "      <th>2</th>\n",
       "      <td>PM000101</td>\n",
       "      <td>2-Hydroxy-3-phenylpropyl-b-D-glucopyranoside</td>\n",
       "      <td>Other</td>\n",
       "      <td>Other</td>\n",
       "      <td>Other</td>\n",
       "      <td>H2O/CH3OH/CH3CN</td>\n",
       "      <td>positive</td>\n",
       "      <td>314.14</td>\n",
       "      <td>C15H22O7</td>\n",
       "      <td>332</td>\n",
       "      <td>[M+NH4]+</td>\n",
       "      <td>7</td>\n",
       "      <td>163.0</td>\n",
       "      <td>10</td>\n",
       "    </tr>\n",
       "  </tbody>\n",
       "</table>\n",
       "</div>"
      ],
      "text/plain": [
       "  ACCESSION                                  nom_molecule class1 class2  \\\n",
       "0  PM000101  2-Hydroxy-3-phenylpropyl-b-D-glucopyranoside  Other  Other   \n",
       "1  PM000101  2-Hydroxy-3-phenylpropyl-b-D-glucopyranoside  Other  Other   \n",
       "2  PM000101  2-Hydroxy-3-phenylpropyl-b-D-glucopyranoside  Other  Other   \n",
       "\n",
       "  class3       AC_solvent   AC_mode exact_mass   formule ion_precursor_m/z  \\\n",
       "0  Other  H2O/CH3OH/CH3CN  positive    314.14   C15H22O7               332   \n",
       "1  Other  H2O/CH3OH/CH3CN  positive    314.14   C15H22O7               332   \n",
       "2  Other  H2O/CH3OH/CH3CN  positive    314.14   C15H22O7               332   \n",
       "\n",
       "  focused_ion_type  num_peak  peak_m/z  peak_rel.int.  \n",
       "0         [M+NH4]+         7     297.0             29  \n",
       "1         [M+NH4]+         7     179.0             22  \n",
       "2         [M+NH4]+         7     163.0             10  "
      ]
     },
     "execution_count": 149,
     "metadata": {},
     "output_type": "execute_result"
    }
   ],
   "source": [
    "df.head(3)"
   ]
  },
  {
   "cell_type": "code",
   "execution_count": 150,
   "metadata": {},
   "outputs": [
    {
     "name": "stdout",
     "output_type": "stream",
     "text": [
      "Nb Other class1:  15058\n",
      "Nb Other class2:  3611\n",
      "Nb Other class3:  1664\n"
     ]
    }
   ],
   "source": [
    "print( 'Nb Other class1: ', (df['class1'] == 'Other').value_counts()[1])\n",
    "print( 'Nb Other class2: ', (df['class2'] == 'Other').value_counts()[1])\n",
    "print( 'Nb Other class3: ', (df['class3'] == 'Other').value_counts()[1])"
   ]
  },
  {
   "cell_type": "code",
   "execution_count": 151,
   "metadata": {},
   "outputs": [
    {
     "name": "stdout",
     "output_type": "stream",
     "text": [
      "Valeurs nulles class1: 0\n",
      "Valeurs nulles class2: 3\n",
      "Valeurs nulles class3: 10653\n"
     ]
    }
   ],
   "source": [
    "print('Valeurs nulles class1:', pd.isnull(df['class1']).sum())\n",
    "print('Valeurs nulles class2:', pd.isnull(df['class2']).sum())\n",
    "print('Valeurs nulles class3:', pd.isnull(df['class3']).sum())"
   ]
  },
  {
   "cell_type": "code",
   "execution_count": 152,
   "metadata": {},
   "outputs": [
    {
     "name": "stdout",
     "output_type": "stream",
     "text": [
      "Valeurs nulles class1: 0\n",
      "Valeurs nulles class2: 0\n",
      "Valeurs nulles class3: 0\n",
      "Nb Other class1:  15058\n",
      "Nb Other class2:  3614\n",
      "Nb Other class3:  12317\n"
     ]
    }
   ],
   "source": [
    "# remplacement des valeurs nulles par la classe 'other'\n",
    "\n",
    "df['class2'] = df['class2'].fillna('Other')\n",
    "df['class3'] = df['class3'].fillna('Other')\n",
    "\n",
    "# vérification\n",
    "\n",
    "print('Valeurs nulles class1:', pd.isnull(df['class1']).sum())\n",
    "print('Valeurs nulles class2:', pd.isnull(df['class2']).sum())\n",
    "print('Valeurs nulles class3:', pd.isnull(df['class3']).sum())\n",
    "\n",
    "print( 'Nb Other class1: ', (df['class1'] == 'Other').value_counts()[1])\n",
    "print( 'Nb Other class2: ', (df['class2'] == 'Other').value_counts()[1])\n",
    "print( 'Nb Other class3: ', (df['class3'] == 'Other').value_counts()[1])\n",
    "\n"
   ]
  },
  {
   "cell_type": "code",
   "execution_count": 153,
   "metadata": {},
   "outputs": [
    {
     "name": "stdout",
     "output_type": "stream",
     "text": [
      "Nb Other class1:  13862\n",
      "Nb Other class2:  2418\n",
      "Nb Other class3:  11121\n"
     ]
    }
   ],
   "source": [
    "# suppression des lignes pour lesquelles les 3 classes sont 'Other'\n",
    "\n",
    "df1 = df[(df['class1'] != 'Other') | (df['class2'] != 'Other') | (df['class3'] != 'Other')]\n",
    "\n",
    "print( 'Nb Other class1: ', (df1['class1'] == 'Other').sum())\n",
    "print( 'Nb Other class2: ', (df1['class2'] == 'Other').sum())\n",
    "print( 'Nb Other class3: ', (df1['class3'] == 'Other').sum())"
   ]
  },
  {
   "cell_type": "code",
   "execution_count": 154,
   "metadata": {},
   "outputs": [
    {
     "name": "stderr",
     "output_type": "stream",
     "text": [
      "C:\\Users\\marin\\Anaconda3\\lib\\site-packages\\pandas\\core\\indexing.py:543: SettingWithCopyWarning: \n",
      "A value is trying to be set on a copy of a slice from a DataFrame.\n",
      "Try using .loc[row_indexer,col_indexer] = value instead\n",
      "\n",
      "See the caveats in the documentation: http://pandas.pydata.org/pandas-docs/stable/indexing.html#indexing-view-versus-copy\n",
      "  self.obj[item] = s\n"
     ]
    },
    {
     "name": "stdout",
     "output_type": "stream",
     "text": [
      "Nb Other class1:  0\n",
      "Nb Other class2:  0\n",
      "Nb Other class3:  0\n"
     ]
    }
   ],
   "source": [
    "# remplacement des valeurs 'Other' par les classes adjacentes\n",
    "\n",
    "df1.loc[df1.class3 == 'Other', 'class3'] = df1.loc[df1.class3 == 'Other', 'class2']\n",
    "df1.loc[df1.class3 == 'Other', 'class3'] = df1.loc[df1.class3 == 'Other', 'class1']\n",
    "df1.loc[df1.class2 == 'Other', 'class2'] = df1.loc[df1.class2 == 'Other', 'class3']\n",
    "df1.loc[df1.class2 == 'Other', 'class2'] = df1.loc[df1.class2 == 'Other', 'class1']\n",
    "df1.loc[df1.class1 == 'Other', 'class1'] = df1.loc[df1.class1 == 'Other', 'class2']\n",
    "df1.loc[df1.class1 == 'Other', 'class1'] = df1.loc[df1.class1 == 'Other', 'class3']\n",
    "\n",
    "print( 'Nb Other class1: ', (df1['class1'] == 'Other').sum())\n",
    "print( 'Nb Other class2: ', (df1['class2'] == 'Other').sum())\n",
    "print( 'Nb Other class3: ', (df1['class3'] == 'Other').sum())"
   ]
  },
  {
   "cell_type": "code",
   "execution_count": 155,
   "metadata": {},
   "outputs": [
    {
     "data": {
      "text/html": [
       "<div>\n",
       "<style scoped>\n",
       "    .dataframe tbody tr th:only-of-type {\n",
       "        vertical-align: middle;\n",
       "    }\n",
       "\n",
       "    .dataframe tbody tr th {\n",
       "        vertical-align: top;\n",
       "    }\n",
       "\n",
       "    .dataframe thead th {\n",
       "        text-align: right;\n",
       "    }\n",
       "</style>\n",
       "<table border=\"1\" class=\"dataframe\">\n",
       "  <thead>\n",
       "    <tr style=\"text-align: right;\">\n",
       "      <th></th>\n",
       "      <th>ACCESSION</th>\n",
       "      <th>nom_molecule</th>\n",
       "      <th>class1</th>\n",
       "      <th>class2</th>\n",
       "      <th>class3</th>\n",
       "      <th>AC_solvent</th>\n",
       "      <th>AC_mode</th>\n",
       "      <th>exact_mass</th>\n",
       "      <th>formule</th>\n",
       "      <th>ion_precursor_m/z</th>\n",
       "      <th>focused_ion_type</th>\n",
       "      <th>num_peak</th>\n",
       "      <th>peak_m/z</th>\n",
       "      <th>peak_rel.int.</th>\n",
       "    </tr>\n",
       "  </thead>\n",
       "  <tbody>\n",
       "    <tr>\n",
       "      <th>7</th>\n",
       "      <td>PM000102</td>\n",
       "      <td>3-Phenyl-1-propanol glucoside 3-phenylpropyl-b...</td>\n",
       "      <td>Phenylpropanoid</td>\n",
       "      <td>Phenylpropanoid glycoside</td>\n",
       "      <td>Phenylpropanoid glycoside</td>\n",
       "      <td>H2O/CH3OH/CH3CN</td>\n",
       "      <td>positive</td>\n",
       "      <td>298.14</td>\n",
       "      <td>C15H22O6</td>\n",
       "      <td>316</td>\n",
       "      <td>[M+NH4]+</td>\n",
       "      <td>8</td>\n",
       "      <td>299.0</td>\n",
       "      <td>3</td>\n",
       "    </tr>\n",
       "    <tr>\n",
       "      <th>8</th>\n",
       "      <td>PM000102</td>\n",
       "      <td>3-Phenyl-1-propanol glucoside 3-phenylpropyl-b...</td>\n",
       "      <td>Phenylpropanoid</td>\n",
       "      <td>Phenylpropanoid glycoside</td>\n",
       "      <td>Phenylpropanoid glycoside</td>\n",
       "      <td>H2O/CH3OH/CH3CN</td>\n",
       "      <td>positive</td>\n",
       "      <td>298.14</td>\n",
       "      <td>C15H22O6</td>\n",
       "      <td>316</td>\n",
       "      <td>[M+NH4]+</td>\n",
       "      <td>8</td>\n",
       "      <td>180.0</td>\n",
       "      <td>10</td>\n",
       "    </tr>\n",
       "    <tr>\n",
       "      <th>9</th>\n",
       "      <td>PM000102</td>\n",
       "      <td>3-Phenyl-1-propanol glucoside 3-phenylpropyl-b...</td>\n",
       "      <td>Phenylpropanoid</td>\n",
       "      <td>Phenylpropanoid glycoside</td>\n",
       "      <td>Phenylpropanoid glycoside</td>\n",
       "      <td>H2O/CH3OH/CH3CN</td>\n",
       "      <td>positive</td>\n",
       "      <td>298.14</td>\n",
       "      <td>C15H22O6</td>\n",
       "      <td>316</td>\n",
       "      <td>[M+NH4]+</td>\n",
       "      <td>8</td>\n",
       "      <td>163.0</td>\n",
       "      <td>100</td>\n",
       "    </tr>\n",
       "  </tbody>\n",
       "</table>\n",
       "</div>"
      ],
      "text/plain": [
       "  ACCESSION                                       nom_molecule  \\\n",
       "7  PM000102  3-Phenyl-1-propanol glucoside 3-phenylpropyl-b...   \n",
       "8  PM000102  3-Phenyl-1-propanol glucoside 3-phenylpropyl-b...   \n",
       "9  PM000102  3-Phenyl-1-propanol glucoside 3-phenylpropyl-b...   \n",
       "\n",
       "            class1                     class2                     class3  \\\n",
       "7  Phenylpropanoid  Phenylpropanoid glycoside  Phenylpropanoid glycoside   \n",
       "8  Phenylpropanoid  Phenylpropanoid glycoside  Phenylpropanoid glycoside   \n",
       "9  Phenylpropanoid  Phenylpropanoid glycoside  Phenylpropanoid glycoside   \n",
       "\n",
       "        AC_solvent   AC_mode exact_mass   formule ion_precursor_m/z  \\\n",
       "7  H2O/CH3OH/CH3CN  positive    298.14   C15H22O6               316   \n",
       "8  H2O/CH3OH/CH3CN  positive    298.14   C15H22O6               316   \n",
       "9  H2O/CH3OH/CH3CN  positive    298.14   C15H22O6               316   \n",
       "\n",
       "  focused_ion_type  num_peak  peak_m/z  peak_rel.int.  \n",
       "7         [M+NH4]+         8     299.0              3  \n",
       "8         [M+NH4]+         8     180.0             10  \n",
       "9         [M+NH4]+         8     163.0            100  "
      ]
     },
     "execution_count": 155,
     "metadata": {},
     "output_type": "execute_result"
    }
   ],
   "source": [
    "df1.head(3)"
   ]
  },
  {
   "cell_type": "code",
   "execution_count": 156,
   "metadata": {},
   "outputs": [
    {
     "name": "stderr",
     "output_type": "stream",
     "text": [
      "C:\\Users\\marin\\Anaconda3\\lib\\site-packages\\ipykernel_launcher.py:1: SettingWithCopyWarning: \n",
      "A value is trying to be set on a copy of a slice from a DataFrame.\n",
      "Try using .loc[row_indexer,col_indexer] = value instead\n",
      "\n",
      "See the caveats in the documentation: http://pandas.pydata.org/pandas-docs/stable/indexing.html#indexing-view-versus-copy\n",
      "  \"\"\"Entry point for launching an IPython kernel.\n",
      "C:\\Users\\marin\\Anaconda3\\lib\\site-packages\\ipykernel_launcher.py:2: SettingWithCopyWarning: \n",
      "A value is trying to be set on a copy of a slice from a DataFrame.\n",
      "Try using .loc[row_indexer,col_indexer] = value instead\n",
      "\n",
      "See the caveats in the documentation: http://pandas.pydata.org/pandas-docs/stable/indexing.html#indexing-view-versus-copy\n",
      "  \n"
     ]
    },
    {
     "data": {
      "text/plain": [
       "0    30428\n",
       "1    17684\n",
       "Name: AC_mode, dtype: int64"
      ]
     },
     "execution_count": 156,
     "metadata": {},
     "output_type": "execute_result"
    }
   ],
   "source": [
    "df1['AC_mode'] = df1['AC_mode'].replace(['POSITIVE', 'NEGATIVE'], ['positive', 'negative'])\n",
    "df1['AC_mode'] = df1['AC_mode'].replace(['positive', 'negative'], [0, 1])\n",
    "\n",
    "df1['AC_mode'].value_counts()"
   ]
  },
  {
   "cell_type": "code",
   "execution_count": 157,
   "metadata": {},
   "outputs": [],
   "source": [
    "# suppression des lignes empechant la transformation en float de 'ion_precursor_m/z'\n",
    "\n",
    "df1 = df1[(df1['ion_precursor_m/z'] != 'n.d')]\n",
    "df1 = df1[(df1['ion_precursor_m/z'] != '590.4495 1.315 590.0900 7.802 589.9528 1.134 444.0505 2.504')]\n",
    "df1 = df1[(df1['ion_precursor_m/z'] != '397.0512 1.319 355.7804 1.407 112.0057 4.659 111.5095 1.644 111.0105 12.08 100.5019 8.783 100.0036 3.503 99.5037 25.11 98.5028 1.863 91.4973 1.524 90.5158 3.989 90.4982 6.122 81.5140 2.187 79.0122 1.698 75.0224 1.338 70.0075 2.423')]\n",
    "\n",
    "#transformation de 'ion_precursor_m/z' en float\n",
    "\n",
    "df1['ion_precursor_m/z'] = df1['ion_precursor_m/z'].astype(float)"
   ]
  },
  {
   "cell_type": "code",
   "execution_count": 158,
   "metadata": {},
   "outputs": [],
   "source": [
    "# suppression des lignes empechant la transformation en float de 'exact_mass'\n",
    "\n",
    "df1 = df1[(df1['exact_mass'] != 'no data')]\n",
    "df1 = df1[(df1['exact_mass'] != '0')]\n",
    "df1 = df1[(df1['exact_mass'] != '0.00')]\n",
    "df1 = df1[(df1['exact_mass'] != '0.00 ')]\n",
    "df1 = df1[(df1['exact_mass'] != '-')]\n",
    "df1 = df1[(df1['exact_mass'] != 'n.d')]\n",
    "\n",
    "#transformation de 'exact_mass' en float\n",
    "df1['exact_mass'] = df1['exact_mass'].astype(float)"
   ]
  },
  {
   "cell_type": "code",
   "execution_count": 160,
   "metadata": {},
   "outputs": [
    {
     "name": "stdout",
     "output_type": "stream",
     "text": [
      "25676\n",
      "CH3CN/H2O                                   6975\n",
      "H2O/CH3CN/HCOOH                             3231\n",
      "H2O/CH3OH/CH3COOH                           1334\n",
      "H2O/CH3OH/HCOOH                              936\n",
      "H2O/CH3CN/CH3COOH                            912\n",
      "CH3CN/H2O/HCOOH                              609\n",
      "MeOH/H2O                                     606\n",
      "MeOH/H2O/HCOOH                               494\n",
      "CH3CN/H2O/CH3COOH                            386\n",
      "MeOH 2mM CH3COONH4                           385\n",
      "H2O/CH3OH/HCOOH/HCOONH4                      334\n",
      "H2O/CH3CN                                    305\n",
      "H2O/CH3OH/CH3COONH4                          239\n",
      "H2O/CH3CN/CF3COOH                            213\n",
      "CH3OH                                        198\n",
      "CH3OH/H2O/HCOOH                              188\n",
      "H2O/CH3OH/CF3COOH                            176\n",
      "H2O/NH3CN/HCOOH                              172\n",
      "MeOH/methyl tert-butyl ester/water           153\n",
      "MeOH                                         139\n",
      "CH3CN/8mMCH3COONH4                            94\n",
      "H2O/CH3CN+CH3OH/HCOOH/CH3COONH4               72\n",
      "H2O/MeOH                                      72\n",
      "CH3CH/H2O/HCOOH                               69\n",
      "MeCN/H2O/NH4OH                                67\n",
      "H2O/CH3OH/H3PO4                               61\n",
      "H2O/CH3CN/CH3OH/HCOOH                         55\n",
      "H2O/CH3CN/HCOOH/CH3COONH4                     49\n",
      "H2O/CH3CN/CH3COOH/H3PO4                       49\n",
      "2',4',6'-trihydroxyacetophenone (matirx)      39\n",
      "H2O/CH3CN/CH3OH/CH3COOH                       32\n",
      "direct infusion                               31\n",
      "H2O/CH3OH/CH3COOH/CH2Cl2                      27\n",
      "H2O/CH3OH                                     27\n",
      "H2O/CH3CN/C4H11N                              21\n",
      "H2O/CH3CN/CH3COOH/C6H15N                      21\n",
      "H2O/CH3CN/CH3COONH4                           17\n",
      "H2O/CH3CN/HCOOH/NH3                           17\n",
      "H2O/CH3OH/CH3CN                               14\n",
      "H2O/CH3CN/NH4CO3                              14\n",
      "H2O/CH3CN/C8H19NO2/CH3COOH                    11\n",
      "H2O/CH3OH/CHCl3/CH3COOH                        4\n",
      "Name: AC_solvent, dtype: int64\n"
     ]
    }
   ],
   "source": [
    "print(df1['AC_solvent'].isnull().sum())\n",
    "print(df1['AC_solvent'].value_counts())"
   ]
  },
  {
   "cell_type": "code",
   "execution_count": 161,
   "metadata": {},
   "outputs": [],
   "source": [
    "df1['AC_solvent'] = df1['AC_solvent'].replace(['direct infusion'] , ['n.d.'])\n",
    "df1['AC_solvent'] = df1['AC_solvent'].fillna('n.d.')"
   ]
  },
  {
   "cell_type": "code",
   "execution_count": 162,
   "metadata": {},
   "outputs": [
    {
     "name": "stdout",
     "output_type": "stream",
     "text": [
      "0\n",
      "n.d.                                        25707\n",
      "CH3CN/H2O                                    6975\n",
      "H2O/CH3CN/HCOOH                              3231\n",
      "H2O/CH3OH/CH3COOH                            1334\n",
      "H2O/CH3OH/HCOOH                               936\n",
      "H2O/CH3CN/CH3COOH                             912\n",
      "CH3CN/H2O/HCOOH                               609\n",
      "MeOH/H2O                                      606\n",
      "MeOH/H2O/HCOOH                                494\n",
      "CH3CN/H2O/CH3COOH                             386\n",
      "MeOH 2mM CH3COONH4                            385\n",
      "H2O/CH3OH/HCOOH/HCOONH4                       334\n",
      "H2O/CH3CN                                     305\n",
      "H2O/CH3OH/CH3COONH4                           239\n",
      "H2O/CH3CN/CF3COOH                             213\n",
      "CH3OH                                         198\n",
      "CH3OH/H2O/HCOOH                               188\n",
      "H2O/CH3OH/CF3COOH                             176\n",
      "H2O/NH3CN/HCOOH                               172\n",
      "MeOH/methyl tert-butyl ester/water            153\n",
      "MeOH                                          139\n",
      "CH3CN/8mMCH3COONH4                             94\n",
      "H2O/MeOH                                       72\n",
      "H2O/CH3CN+CH3OH/HCOOH/CH3COONH4                72\n",
      "CH3CH/H2O/HCOOH                                69\n",
      "MeCN/H2O/NH4OH                                 67\n",
      "H2O/CH3OH/H3PO4                                61\n",
      "H2O/CH3CN/CH3OH/HCOOH                          55\n",
      "H2O/CH3CN/HCOOH/CH3COONH4                      49\n",
      "H2O/CH3CN/CH3COOH/H3PO4                        49\n",
      "2',4',6'-trihydroxyacetophenone (matirx)       39\n",
      "H2O/CH3CN/CH3OH/CH3COOH                        32\n",
      "H2O/CH3OH/CH3COOH/CH2Cl2                       27\n",
      "H2O/CH3OH                                      27\n",
      "H2O/CH3CN/CH3COOH/C6H15N                       21\n",
      "H2O/CH3CN/C4H11N                               21\n",
      "H2O/CH3CN/CH3COONH4                            17\n",
      "H2O/CH3CN/HCOOH/NH3                            17\n",
      "H2O/CH3OH/CH3CN                                14\n",
      "H2O/CH3CN/NH4CO3                               14\n",
      "H2O/CH3CN/C8H19NO2/CH3COOH                     11\n",
      "H2O/CH3OH/CHCl3/CH3COOH                         4\n",
      "Name: AC_solvent, dtype: int64\n"
     ]
    }
   ],
   "source": [
    "print(df1['AC_solvent'].isnull().sum())\n",
    "print(df1['AC_solvent'].value_counts())"
   ]
  },
  {
   "cell_type": "code",
   "execution_count": 163,
   "metadata": {},
   "outputs": [],
   "source": [
    "# ajout de la colonne precence_solvent\n",
    "\n",
    "Presence_solvent = []\n",
    "presence_solvent =()\n",
    "for i in df1.index : \n",
    "    if df1['AC_solvent'][i] == 'n.d.' :\n",
    "        presence_solvent == 0\n",
    "    if df1['AC_solvent'][i] != 'n.d.' :\n",
    "        presence_solvent == 1\n",
    "        \n",
    "    Presence_solvent.append(presence_solvent)\n",
    "    \n",
    "df1['presence-solvent'] = Presence_solvent\n",
    "    "
   ]
  },
  {
   "cell_type": "code",
   "execution_count": 164,
   "metadata": {},
   "outputs": [],
   "source": [
    "df1 = df1.dropna()"
   ]
  },
  {
   "cell_type": "code",
   "execution_count": 165,
   "metadata": {},
   "outputs": [
    {
     "data": {
      "text/html": [
       "<div>\n",
       "<style scoped>\n",
       "    .dataframe tbody tr th:only-of-type {\n",
       "        vertical-align: middle;\n",
       "    }\n",
       "\n",
       "    .dataframe tbody tr th {\n",
       "        vertical-align: top;\n",
       "    }\n",
       "\n",
       "    .dataframe thead th {\n",
       "        text-align: right;\n",
       "    }\n",
       "</style>\n",
       "<table border=\"1\" class=\"dataframe\">\n",
       "  <thead>\n",
       "    <tr style=\"text-align: right;\">\n",
       "      <th></th>\n",
       "      <th>AC_mode</th>\n",
       "      <th>exact_mass</th>\n",
       "      <th>ion_precursor_m/z</th>\n",
       "      <th>num_peak</th>\n",
       "      <th>peak_m/z</th>\n",
       "      <th>peak_rel.int.</th>\n",
       "    </tr>\n",
       "  </thead>\n",
       "  <tbody>\n",
       "    <tr>\n",
       "      <th>AC_mode</th>\n",
       "      <td>1.000000</td>\n",
       "      <td>-0.008744</td>\n",
       "      <td>0.232979</td>\n",
       "      <td>-0.163812</td>\n",
       "      <td>0.258517</td>\n",
       "      <td>0.021600</td>\n",
       "    </tr>\n",
       "    <tr>\n",
       "      <th>exact_mass</th>\n",
       "      <td>-0.008744</td>\n",
       "      <td>1.000000</td>\n",
       "      <td>0.037614</td>\n",
       "      <td>0.001724</td>\n",
       "      <td>0.020208</td>\n",
       "      <td>0.008409</td>\n",
       "    </tr>\n",
       "    <tr>\n",
       "      <th>ion_precursor_m/z</th>\n",
       "      <td>0.232979</td>\n",
       "      <td>0.037614</td>\n",
       "      <td>1.000000</td>\n",
       "      <td>-0.064631</td>\n",
       "      <td>0.753415</td>\n",
       "      <td>-0.117098</td>\n",
       "    </tr>\n",
       "    <tr>\n",
       "      <th>num_peak</th>\n",
       "      <td>-0.163812</td>\n",
       "      <td>0.001724</td>\n",
       "      <td>-0.064631</td>\n",
       "      <td>1.000000</td>\n",
       "      <td>-0.185063</td>\n",
       "      <td>-0.136629</td>\n",
       "    </tr>\n",
       "    <tr>\n",
       "      <th>peak_m/z</th>\n",
       "      <td>0.258517</td>\n",
       "      <td>0.020208</td>\n",
       "      <td>0.753415</td>\n",
       "      <td>-0.185063</td>\n",
       "      <td>1.000000</td>\n",
       "      <td>-0.023589</td>\n",
       "    </tr>\n",
       "    <tr>\n",
       "      <th>peak_rel.int.</th>\n",
       "      <td>0.021600</td>\n",
       "      <td>0.008409</td>\n",
       "      <td>-0.117098</td>\n",
       "      <td>-0.136629</td>\n",
       "      <td>-0.023589</td>\n",
       "      <td>1.000000</td>\n",
       "    </tr>\n",
       "  </tbody>\n",
       "</table>\n",
       "</div>"
      ],
      "text/plain": [
       "                    AC_mode  exact_mass  ion_precursor_m/z  num_peak  \\\n",
       "AC_mode            1.000000   -0.008744           0.232979 -0.163812   \n",
       "exact_mass        -0.008744    1.000000           0.037614  0.001724   \n",
       "ion_precursor_m/z  0.232979    0.037614           1.000000 -0.064631   \n",
       "num_peak          -0.163812    0.001724          -0.064631  1.000000   \n",
       "peak_m/z           0.258517    0.020208           0.753415 -0.185063   \n",
       "peak_rel.int.      0.021600    0.008409          -0.117098 -0.136629   \n",
       "\n",
       "                   peak_m/z  peak_rel.int.  \n",
       "AC_mode            0.258517       0.021600  \n",
       "exact_mass         0.020208       0.008409  \n",
       "ion_precursor_m/z  0.753415      -0.117098  \n",
       "num_peak          -0.185063      -0.136629  \n",
       "peak_m/z           1.000000      -0.023589  \n",
       "peak_rel.int.     -0.023589       1.000000  "
      ]
     },
     "execution_count": 165,
     "metadata": {},
     "output_type": "execute_result"
    }
   ],
   "source": []
  },
  {
   "cell_type": "code",
   "execution_count": 166,
   "metadata": {},
   "outputs": [],
   "source": [
    "df1 = df1.join(pd.get_dummies(df['AC_solvent'], prefix='solvent'))\n",
    "df1 = df1.join(pd.get_dummies(df['focused_ion_type'], prefix='focused_ion_type'))"
   ]
  },
  {
   "cell_type": "code",
   "execution_count": 167,
   "metadata": {},
   "outputs": [
    {
     "name": "stdout",
     "output_type": "stream",
     "text": [
      "<class 'pandas.core.frame.DataFrame'>\n",
      "Int64Index: 44340 entries, 7 to 49307\n",
      "Data columns (total 70 columns):\n",
      "ACCESSION                                           44340 non-null object\n",
      "nom_molecule                                        44340 non-null object\n",
      "class1                                              44340 non-null object\n",
      "class2                                              44340 non-null object\n",
      "class3                                              44340 non-null object\n",
      "AC_solvent                                          44340 non-null object\n",
      "AC_mode                                             44340 non-null int64\n",
      "exact_mass                                          44340 non-null float64\n",
      "formule                                             44340 non-null object\n",
      "ion_precursor_m/z                                   44340 non-null float64\n",
      "focused_ion_type                                    44340 non-null object\n",
      "num_peak                                            44340 non-null int64\n",
      "peak_m/z                                            44340 non-null float64\n",
      "peak_rel.int.                                       44340 non-null int64\n",
      "presence-solvent                                    44340 non-null object\n",
      "solvent_2',4',6'-trihydroxyacetophenone (matirx)    44340 non-null uint8\n",
      "solvent_CH3CH/H2O/HCOOH                             44340 non-null uint8\n",
      "solvent_CH3CN/8mMCH3COONH4                          44340 non-null uint8\n",
      "solvent_CH3CN/H2O                                   44340 non-null uint8\n",
      "solvent_CH3CN/H2O/CH3COOH                           44340 non-null uint8\n",
      "solvent_CH3CN/H2O/HCOOH                             44340 non-null uint8\n",
      "solvent_CH3OH                                       44340 non-null uint8\n",
      "solvent_CH3OH/H2O/HCOOH                             44340 non-null uint8\n",
      "solvent_H2O/CH3CN                                   44340 non-null uint8\n",
      "solvent_H2O/CH3CN or CH3OH/CH3COOH                  44340 non-null uint8\n",
      "solvent_H2O/CH3CN+CH3OH/HCOOH/CH3COONH4             44340 non-null uint8\n",
      "solvent_H2O/CH3CN/C4H11N                            44340 non-null uint8\n",
      "solvent_H2O/CH3CN/C8H19NO2/CH3COOH                  44340 non-null uint8\n",
      "solvent_H2O/CH3CN/CF3COOH                           44340 non-null uint8\n",
      "solvent_H2O/CH3CN/CH3COOH                           44340 non-null uint8\n",
      "solvent_H2O/CH3CN/CH3COOH/C6H15N                    44340 non-null uint8\n",
      "solvent_H2O/CH3CN/CH3COOH/H3PO4                     44340 non-null uint8\n",
      "solvent_H2O/CH3CN/CH3COONH4                         44340 non-null uint8\n",
      "solvent_H2O/CH3CN/CH3OH/CH3COOH                     44340 non-null uint8\n",
      "solvent_H2O/CH3CN/CH3OH/HCOOH                       44340 non-null uint8\n",
      "solvent_H2O/CH3CN/HCOOH                             44340 non-null uint8\n",
      "solvent_H2O/CH3CN/HCOOH/CH3COONH4                   44340 non-null uint8\n",
      "solvent_H2O/CH3CN/HCOOH/NH3                         44340 non-null uint8\n",
      "solvent_H2O/CH3CN/NH4CO3                            44340 non-null uint8\n",
      "solvent_H2O/CH3OH                                   44340 non-null uint8\n",
      "solvent_H2O/CH3OH/CF3COOH                           44340 non-null uint8\n",
      "solvent_H2O/CH3OH/CH3CN                             44340 non-null uint8\n",
      "solvent_H2O/CH3OH/CH3COOH                           44340 non-null uint8\n",
      "solvent_H2O/CH3OH/CH3COOH/CH2Cl2                    44340 non-null uint8\n",
      "solvent_H2O/CH3OH/CH3COONH4                         44340 non-null uint8\n",
      "solvent_H2O/CH3OH/CHCl3/CH3COOH                     44340 non-null uint8\n",
      "solvent_H2O/CH3OH/H3PO4                             44340 non-null uint8\n",
      "solvent_H2O/CH3OH/HCOOH                             44340 non-null uint8\n",
      "solvent_H2O/CH3OH/HCOOH/HCOONH4                     44340 non-null uint8\n",
      "solvent_H2O/MeOH                                    44340 non-null uint8\n",
      "solvent_H2O/NH3CN/HCOOH                             44340 non-null uint8\n",
      "solvent_MeCN/H2O/NH4OH                              44340 non-null uint8\n",
      "solvent_MeOH                                        44340 non-null uint8\n",
      "solvent_MeOH 2mM CH3COONH4                          44340 non-null uint8\n",
      "solvent_MeOH/H2O                                    44340 non-null uint8\n",
      "solvent_MeOH/H2O/HCOOH                              44340 non-null uint8\n",
      "solvent_MeOH/methyl tert-butyl ester/water          44340 non-null uint8\n",
      "solvent_direct infusion                             44340 non-null uint8\n",
      "focused_ion_type_[M+H+60]+                          44340 non-null uint8\n",
      "focused_ion_type_[M+H]+                             44340 non-null uint8\n",
      "focused_ion_type_[M+K-H2O]+                         44340 non-null uint8\n",
      "focused_ion_type_[M+NH4]+                           44340 non-null uint8\n",
      "focused_ion_type_[M+Na]+                            44340 non-null uint8\n",
      "focused_ion_type_[M-2H]-                            44340 non-null uint8\n",
      "focused_ion_type_[M-2H]2-                           44340 non-null uint8\n",
      "focused_ion_type_[M-H]-                             44340 non-null uint8\n",
      "focused_ion_type_[M-Na]-                            44340 non-null uint8\n",
      "focused_ion_type_[MH]+                              44340 non-null uint8\n",
      "focused_ion_type_[M]                                44340 non-null uint8\n",
      "focused_ion_type_[M]+                               44340 non-null uint8\n",
      "dtypes: float64(3), int64(3), object(9), uint8(55)\n",
      "memory usage: 9.0+ MB\n"
     ]
    }
   ],
   "source": [
    "df1.info()"
   ]
  },
  {
   "cell_type": "code",
   "execution_count": 169,
   "metadata": {},
   "outputs": [],
   "source": [
    "df1 = df1.drop(['AC_solvent', 'focused_ion_type'], 1)"
   ]
  },
  {
   "cell_type": "code",
   "execution_count": 141,
   "metadata": {},
   "outputs": [
    {
     "name": "stdout",
     "output_type": "stream",
     "text": [
      "count                    44340\n",
      "unique                     759\n",
      "top       Kaempferol glycoside\n",
      "freq                      3339\n",
      "Name: class3, dtype: object\n",
      "count        44340\n",
      "unique         214\n",
      "top       Flavonol\n",
      "freq          8081\n",
      "Name: class2, dtype: object\n",
      "count         44340\n",
      "unique          106\n",
      "top       Flavonoid\n",
      "freq          15473\n",
      "Name: class1, dtype: object\n"
     ]
    }
   ],
   "source": [
    "print(df1['class3'].describe())\n",
    "print(df1['class2'].describe())\n",
    "print(df1['class1'].describe())"
   ]
  },
  {
   "cell_type": "code",
   "execution_count": 170,
   "metadata": {},
   "outputs": [],
   "source": [
    "df2 = df1[['ACCESSION','class1', 'class2', 'class3', 'AC_mode', 'ion_precursor_m/z', 'num_peak', 'peak_m/z', 'peak_rel.int.' ]]"
   ]
  },
  {
   "cell_type": "code",
   "execution_count": 171,
   "metadata": {},
   "outputs": [],
   "source": [
    "df1.to_csv('fulldata_complete_selection.csv')\n",
    "df2.to_csv('fulldata_colonnes_essentielles.csv')"
   ]
  },
  {
   "cell_type": "code",
   "execution_count": 172,
   "metadata": {},
   "outputs": [
    {
     "name": "stdout",
     "output_type": "stream",
     "text": [
      "<class 'pandas.core.frame.DataFrame'>\n",
      "Int64Index: 44340 entries, 7 to 49307\n",
      "Data columns (total 68 columns):\n",
      "ACCESSION                                           44340 non-null object\n",
      "nom_molecule                                        44340 non-null object\n",
      "class1                                              44340 non-null object\n",
      "class2                                              44340 non-null object\n",
      "class3                                              44340 non-null object\n",
      "AC_mode                                             44340 non-null int64\n",
      "exact_mass                                          44340 non-null float64\n",
      "formule                                             44340 non-null object\n",
      "ion_precursor_m/z                                   44340 non-null float64\n",
      "num_peak                                            44340 non-null int64\n",
      "peak_m/z                                            44340 non-null float64\n",
      "peak_rel.int.                                       44340 non-null int64\n",
      "presence-solvent                                    44340 non-null object\n",
      "solvent_2',4',6'-trihydroxyacetophenone (matirx)    44340 non-null uint8\n",
      "solvent_CH3CH/H2O/HCOOH                             44340 non-null uint8\n",
      "solvent_CH3CN/8mMCH3COONH4                          44340 non-null uint8\n",
      "solvent_CH3CN/H2O                                   44340 non-null uint8\n",
      "solvent_CH3CN/H2O/CH3COOH                           44340 non-null uint8\n",
      "solvent_CH3CN/H2O/HCOOH                             44340 non-null uint8\n",
      "solvent_CH3OH                                       44340 non-null uint8\n",
      "solvent_CH3OH/H2O/HCOOH                             44340 non-null uint8\n",
      "solvent_H2O/CH3CN                                   44340 non-null uint8\n",
      "solvent_H2O/CH3CN or CH3OH/CH3COOH                  44340 non-null uint8\n",
      "solvent_H2O/CH3CN+CH3OH/HCOOH/CH3COONH4             44340 non-null uint8\n",
      "solvent_H2O/CH3CN/C4H11N                            44340 non-null uint8\n",
      "solvent_H2O/CH3CN/C8H19NO2/CH3COOH                  44340 non-null uint8\n",
      "solvent_H2O/CH3CN/CF3COOH                           44340 non-null uint8\n",
      "solvent_H2O/CH3CN/CH3COOH                           44340 non-null uint8\n",
      "solvent_H2O/CH3CN/CH3COOH/C6H15N                    44340 non-null uint8\n",
      "solvent_H2O/CH3CN/CH3COOH/H3PO4                     44340 non-null uint8\n",
      "solvent_H2O/CH3CN/CH3COONH4                         44340 non-null uint8\n",
      "solvent_H2O/CH3CN/CH3OH/CH3COOH                     44340 non-null uint8\n",
      "solvent_H2O/CH3CN/CH3OH/HCOOH                       44340 non-null uint8\n",
      "solvent_H2O/CH3CN/HCOOH                             44340 non-null uint8\n",
      "solvent_H2O/CH3CN/HCOOH/CH3COONH4                   44340 non-null uint8\n",
      "solvent_H2O/CH3CN/HCOOH/NH3                         44340 non-null uint8\n",
      "solvent_H2O/CH3CN/NH4CO3                            44340 non-null uint8\n",
      "solvent_H2O/CH3OH                                   44340 non-null uint8\n",
      "solvent_H2O/CH3OH/CF3COOH                           44340 non-null uint8\n",
      "solvent_H2O/CH3OH/CH3CN                             44340 non-null uint8\n",
      "solvent_H2O/CH3OH/CH3COOH                           44340 non-null uint8\n",
      "solvent_H2O/CH3OH/CH3COOH/CH2Cl2                    44340 non-null uint8\n",
      "solvent_H2O/CH3OH/CH3COONH4                         44340 non-null uint8\n",
      "solvent_H2O/CH3OH/CHCl3/CH3COOH                     44340 non-null uint8\n",
      "solvent_H2O/CH3OH/H3PO4                             44340 non-null uint8\n",
      "solvent_H2O/CH3OH/HCOOH                             44340 non-null uint8\n",
      "solvent_H2O/CH3OH/HCOOH/HCOONH4                     44340 non-null uint8\n",
      "solvent_H2O/MeOH                                    44340 non-null uint8\n",
      "solvent_H2O/NH3CN/HCOOH                             44340 non-null uint8\n",
      "solvent_MeCN/H2O/NH4OH                              44340 non-null uint8\n",
      "solvent_MeOH                                        44340 non-null uint8\n",
      "solvent_MeOH 2mM CH3COONH4                          44340 non-null uint8\n",
      "solvent_MeOH/H2O                                    44340 non-null uint8\n",
      "solvent_MeOH/H2O/HCOOH                              44340 non-null uint8\n",
      "solvent_MeOH/methyl tert-butyl ester/water          44340 non-null uint8\n",
      "solvent_direct infusion                             44340 non-null uint8\n",
      "focused_ion_type_[M+H+60]+                          44340 non-null uint8\n",
      "focused_ion_type_[M+H]+                             44340 non-null uint8\n",
      "focused_ion_type_[M+K-H2O]+                         44340 non-null uint8\n",
      "focused_ion_type_[M+NH4]+                           44340 non-null uint8\n",
      "focused_ion_type_[M+Na]+                            44340 non-null uint8\n",
      "focused_ion_type_[M-2H]-                            44340 non-null uint8\n",
      "focused_ion_type_[M-2H]2-                           44340 non-null uint8\n",
      "focused_ion_type_[M-H]-                             44340 non-null uint8\n",
      "focused_ion_type_[M-Na]-                            44340 non-null uint8\n",
      "focused_ion_type_[MH]+                              44340 non-null uint8\n",
      "focused_ion_type_[M]                                44340 non-null uint8\n",
      "focused_ion_type_[M]+                               44340 non-null uint8\n",
      "dtypes: float64(3), int64(3), object(7), uint8(55)\n",
      "memory usage: 8.3+ MB\n"
     ]
    }
   ],
   "source": [
    "df1.info()"
   ]
  },
  {
   "cell_type": "code",
   "execution_count": null,
   "metadata": {},
   "outputs": [],
   "source": []
  }
 ],
 "metadata": {
  "kernelspec": {
   "display_name": "Python 3",
   "language": "python",
   "name": "python3"
  },
  "language_info": {
   "codemirror_mode": {
    "name": "ipython",
    "version": 3
   },
   "file_extension": ".py",
   "mimetype": "text/x-python",
   "name": "python",
   "nbconvert_exporter": "python",
   "pygments_lexer": "ipython3",
   "version": "3.6.5"
  }
 },
 "nbformat": 4,
 "nbformat_minor": 2
}
