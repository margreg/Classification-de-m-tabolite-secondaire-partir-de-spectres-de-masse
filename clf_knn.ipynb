{
 "cells": [
  {
   "cell_type": "code",
   "execution_count": 1,
   "metadata": {},
   "outputs": [],
   "source": [
    "import pandas as pd\n",
    "import numpy as np\n",
    "from sklearn import svm, neighbors,tree, ensemble, model_selection, preprocessing\n",
    "from sklearn.model_selection import train_test_split\n"
   ]
  },
  {
   "cell_type": "code",
   "execution_count": 16,
   "metadata": {},
   "outputs": [],
   "source": [
    "df = pd.read_csv('fulldata_colonnes_essentielles.csv')"
   ]
  },
  {
   "cell_type": "code",
   "execution_count": 17,
   "metadata": {},
   "outputs": [
    {
     "data": {
      "text/html": [
       "<div>\n",
       "<style scoped>\n",
       "    .dataframe tbody tr th:only-of-type {\n",
       "        vertical-align: middle;\n",
       "    }\n",
       "\n",
       "    .dataframe tbody tr th {\n",
       "        vertical-align: top;\n",
       "    }\n",
       "\n",
       "    .dataframe thead th {\n",
       "        text-align: right;\n",
       "    }\n",
       "</style>\n",
       "<table border=\"1\" class=\"dataframe\">\n",
       "  <thead>\n",
       "    <tr style=\"text-align: right;\">\n",
       "      <th></th>\n",
       "      <th>Unnamed: 0</th>\n",
       "      <th>ACCESSION</th>\n",
       "      <th>class1</th>\n",
       "      <th>class2</th>\n",
       "      <th>class3</th>\n",
       "      <th>AC_mode</th>\n",
       "      <th>ion_precursor_m/z</th>\n",
       "      <th>num_peak</th>\n",
       "      <th>peak_m/z</th>\n",
       "      <th>peak_rel.int.</th>\n",
       "    </tr>\n",
       "  </thead>\n",
       "  <tbody>\n",
       "    <tr>\n",
       "      <th>8</th>\n",
       "      <td>23</td>\n",
       "      <td>PM000104</td>\n",
       "      <td>Phenylpropanoid</td>\n",
       "      <td>Phenylpropanoid glycoside</td>\n",
       "      <td>Phenylpropanoid glycoside</td>\n",
       "      <td>1</td>\n",
       "      <td>297.0</td>\n",
       "      <td>6</td>\n",
       "      <td>297.0</td>\n",
       "      <td>25</td>\n",
       "    </tr>\n",
       "    <tr>\n",
       "      <th>9</th>\n",
       "      <td>24</td>\n",
       "      <td>PM000104</td>\n",
       "      <td>Phenylpropanoid</td>\n",
       "      <td>Phenylpropanoid glycoside</td>\n",
       "      <td>Phenylpropanoid glycoside</td>\n",
       "      <td>1</td>\n",
       "      <td>297.0</td>\n",
       "      <td>6</td>\n",
       "      <td>161.0</td>\n",
       "      <td>40</td>\n",
       "    </tr>\n",
       "    <tr>\n",
       "      <th>10</th>\n",
       "      <td>25</td>\n",
       "      <td>PM000104</td>\n",
       "      <td>Phenylpropanoid</td>\n",
       "      <td>Phenylpropanoid glycoside</td>\n",
       "      <td>Phenylpropanoid glycoside</td>\n",
       "      <td>1</td>\n",
       "      <td>297.0</td>\n",
       "      <td>6</td>\n",
       "      <td>143.0</td>\n",
       "      <td>3</td>\n",
       "    </tr>\n",
       "    <tr>\n",
       "      <th>11</th>\n",
       "      <td>26</td>\n",
       "      <td>PM000104</td>\n",
       "      <td>Phenylpropanoid</td>\n",
       "      <td>Phenylpropanoid glycoside</td>\n",
       "      <td>Phenylpropanoid glycoside</td>\n",
       "      <td>1</td>\n",
       "      <td>297.0</td>\n",
       "      <td>6</td>\n",
       "      <td>119.0</td>\n",
       "      <td>3</td>\n",
       "    </tr>\n",
       "  </tbody>\n",
       "</table>\n",
       "</div>"
      ],
      "text/plain": [
       "    Unnamed: 0 ACCESSION           class1                     class2  \\\n",
       "8           23  PM000104  Phenylpropanoid  Phenylpropanoid glycoside   \n",
       "9           24  PM000104  Phenylpropanoid  Phenylpropanoid glycoside   \n",
       "10          25  PM000104  Phenylpropanoid  Phenylpropanoid glycoside   \n",
       "11          26  PM000104  Phenylpropanoid  Phenylpropanoid glycoside   \n",
       "\n",
       "                       class3  AC_mode  ion_precursor_m/z  num_peak  peak_m/z  \\\n",
       "8   Phenylpropanoid glycoside        1              297.0         6     297.0   \n",
       "9   Phenylpropanoid glycoside        1              297.0         6     161.0   \n",
       "10  Phenylpropanoid glycoside        1              297.0         6     143.0   \n",
       "11  Phenylpropanoid glycoside        1              297.0         6     119.0   \n",
       "\n",
       "    peak_rel.int.  \n",
       "8              25  \n",
       "9              40  \n",
       "10              3  \n",
       "11              3  "
      ]
     },
     "execution_count": 17,
     "metadata": {},
     "output_type": "execute_result"
    }
   ],
   "source": [
    "# Les lignes ayant le même 'Accession' doivent être comprises comme les données d'une même entité (code Amal)\n",
    "np.random.seed = 123\n",
    "\n",
    "unique_users = df['ACCESSION'].unique()\n",
    "target_n = int(.8 * len(df))\n",
    "shuffled_users = np.random.permutation(unique_users)\n",
    "\n",
    "user_count = df['ACCESSION'].value_counts()\n",
    "\n",
    "mapping = user_count.reindex(shuffled_users).cumsum() <= target_n\n",
    "mask = df['ACCESSION'].map(mapping)\n",
    "\n",
    "df_train = df[mask]\n",
    "df_test = df[~mask]\n",
    "\n",
    "df_train.head(4)"
   ]
  },
  {
   "cell_type": "code",
   "execution_count": 18,
   "metadata": {},
   "outputs": [],
   "source": [
    "#Séparation en variables cibles et explicatives :  chaque classe est une variable cible différente.\n",
    "#La classe la plus interessante a priori est la classe 3, la plus 'précise' (classe 3 incluse dans la 2 qui est incluse dans la 1)\n",
    " \n",
    "X_test = df_test[['ion_precursor_m/z', 'num_peak', 'peak_m/z', 'peak_rel.int.', 'AC_mode' ]]\n",
    "y_test3 = df_test.class3\n",
    "y_test2 = df_test.class2\n",
    "y_test1 = df_test.class1\n",
    "\n",
    "X_train = df_train[['ion_precursor_m/z', 'num_peak', 'peak_m/z', 'peak_rel.int.', 'AC_mode']]\n",
    "y_train3 = df_train.class3\n",
    "y_train2 = df_train.class2\n",
    "y_train1 = df_train.class1"
   ]
  },
  {
   "cell_type": "code",
   "execution_count": 19,
   "metadata": {},
   "outputs": [
    {
     "name": "stdout",
     "output_type": "stream",
     "text": [
      "Score de knn: 0.2729314022678792\n"
     ]
    }
   ],
   "source": [
    "#classification paramètre par défaut knn CLASS3\n",
    "\n",
    "clf_knn = neighbors.KNeighborsClassifier()\n",
    "clf_knn.fit(X_train, y_train3)\n",
    "y_pred_knn = clf_knn.predict(X_test)\n",
    "\n",
    "\n",
    "print('Score de knn:', clf_knn.score(X_test, y_test3))"
   ]
  },
  {
   "cell_type": "code",
   "execution_count": 20,
   "metadata": {},
   "outputs": [
    {
     "name": "stdout",
     "output_type": "stream",
     "text": [
      "Score de knn: 0.37161782867407656\n"
     ]
    }
   ],
   "source": [
    "#classification paramètre par défaut knn CLASS2\n",
    "\n",
    "clf_knn = neighbors.KNeighborsClassifier()\n",
    "clf_knn.fit(X_train, y_train2)\n",
    "y_pred_knn = clf_knn.predict(X_test)\n",
    "\n",
    "\n",
    "print('Score de knn:', clf_knn.score(X_test, y_test2))"
   ]
  },
  {
   "cell_type": "code",
   "execution_count": 21,
   "metadata": {},
   "outputs": [
    {
     "name": "stdout",
     "output_type": "stream",
     "text": [
      "Score de knn: 0.543168294599753\n"
     ]
    }
   ],
   "source": [
    "#rclassification paramètre par défaut knn CLASS1\n",
    "\n",
    "clf_knn = neighbors.KNeighborsClassifier()\n",
    "clf_knn.fit(X_train, y_train1)\n",
    "y_pred_knn = clf_knn.predict(X_test)\n",
    "\n",
    "\n",
    "print('Score de knn:', clf_knn.score(X_test, y_test1))"
   ]
  },
  {
   "cell_type": "code",
   "execution_count": null,
   "metadata": {},
   "outputs": [],
   "source": []
  }
 ],
 "metadata": {
  "kernelspec": {
   "display_name": "Python 3",
   "language": "python",
   "name": "python3"
  },
  "language_info": {
   "codemirror_mode": {
    "name": "ipython",
    "version": 3
   },
   "file_extension": ".py",
   "mimetype": "text/x-python",
   "name": "python",
   "nbconvert_exporter": "python",
   "pygments_lexer": "ipython3",
   "version": "3.6.5"
  }
 },
 "nbformat": 4,
 "nbformat_minor": 2
}
