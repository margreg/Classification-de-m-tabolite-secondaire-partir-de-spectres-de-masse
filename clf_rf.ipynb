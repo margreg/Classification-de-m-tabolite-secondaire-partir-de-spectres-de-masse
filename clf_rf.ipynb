{
 "cells": [
  {
   "cell_type": "code",
   "execution_count": 1,
   "metadata": {},
   "outputs": [],
   "source": [
    "import pandas as pd\n",
    "import numpy as np\n",
    "from sklearn import svm, neighbors,tree, ensemble, model_selection, preprocessing\n",
    "from sklearn.model_selection import train_test_split\n"
   ]
  },
  {
   "cell_type": "code",
   "execution_count": 2,
   "metadata": {},
   "outputs": [],
   "source": [
    "df = pd.read_csv('fulldata_colonnes_essentielles.csv')"
   ]
  },
  {
   "cell_type": "code",
   "execution_count": 3,
   "metadata": {},
   "outputs": [
    {
     "data": {
      "text/html": [
       "<div>\n",
       "<style scoped>\n",
       "    .dataframe tbody tr th:only-of-type {\n",
       "        vertical-align: middle;\n",
       "    }\n",
       "\n",
       "    .dataframe tbody tr th {\n",
       "        vertical-align: top;\n",
       "    }\n",
       "\n",
       "    .dataframe thead th {\n",
       "        text-align: right;\n",
       "    }\n",
       "</style>\n",
       "<table border=\"1\" class=\"dataframe\">\n",
       "  <thead>\n",
       "    <tr style=\"text-align: right;\">\n",
       "      <th></th>\n",
       "      <th>Unnamed: 0</th>\n",
       "      <th>ACCESSION</th>\n",
       "      <th>class1</th>\n",
       "      <th>class2</th>\n",
       "      <th>class3</th>\n",
       "      <th>AC_mode</th>\n",
       "      <th>ion_precursor_m/z</th>\n",
       "      <th>num_peak</th>\n",
       "      <th>peak_m/z</th>\n",
       "      <th>peak_rel.int.</th>\n",
       "    </tr>\n",
       "  </thead>\n",
       "  <tbody>\n",
       "    <tr>\n",
       "      <th>0</th>\n",
       "      <td>7</td>\n",
       "      <td>PM000102</td>\n",
       "      <td>Phenylpropanoid</td>\n",
       "      <td>Phenylpropanoid glycoside</td>\n",
       "      <td>Phenylpropanoid glycoside</td>\n",
       "      <td>0</td>\n",
       "      <td>316</td>\n",
       "      <td>8</td>\n",
       "      <td>299.0</td>\n",
       "      <td>3</td>\n",
       "    </tr>\n",
       "    <tr>\n",
       "      <th>1</th>\n",
       "      <td>8</td>\n",
       "      <td>PM000102</td>\n",
       "      <td>Phenylpropanoid</td>\n",
       "      <td>Phenylpropanoid glycoside</td>\n",
       "      <td>Phenylpropanoid glycoside</td>\n",
       "      <td>0</td>\n",
       "      <td>316</td>\n",
       "      <td>8</td>\n",
       "      <td>180.0</td>\n",
       "      <td>10</td>\n",
       "    </tr>\n",
       "    <tr>\n",
       "      <th>2</th>\n",
       "      <td>9</td>\n",
       "      <td>PM000102</td>\n",
       "      <td>Phenylpropanoid</td>\n",
       "      <td>Phenylpropanoid glycoside</td>\n",
       "      <td>Phenylpropanoid glycoside</td>\n",
       "      <td>0</td>\n",
       "      <td>316</td>\n",
       "      <td>8</td>\n",
       "      <td>163.0</td>\n",
       "      <td>100</td>\n",
       "    </tr>\n",
       "    <tr>\n",
       "      <th>3</th>\n",
       "      <td>10</td>\n",
       "      <td>PM000102</td>\n",
       "      <td>Phenylpropanoid</td>\n",
       "      <td>Phenylpropanoid glycoside</td>\n",
       "      <td>Phenylpropanoid glycoside</td>\n",
       "      <td>0</td>\n",
       "      <td>316</td>\n",
       "      <td>8</td>\n",
       "      <td>145.0</td>\n",
       "      <td>60</td>\n",
       "    </tr>\n",
       "  </tbody>\n",
       "</table>\n",
       "</div>"
      ],
      "text/plain": [
       "   Unnamed: 0 ACCESSION           class1                     class2  \\\n",
       "0           7  PM000102  Phenylpropanoid  Phenylpropanoid glycoside   \n",
       "1           8  PM000102  Phenylpropanoid  Phenylpropanoid glycoside   \n",
       "2           9  PM000102  Phenylpropanoid  Phenylpropanoid glycoside   \n",
       "3          10  PM000102  Phenylpropanoid  Phenylpropanoid glycoside   \n",
       "\n",
       "                      class3  AC_mode ion_precursor_m/z  num_peak  peak_m/z  \\\n",
       "0  Phenylpropanoid glycoside        0               316         8     299.0   \n",
       "1  Phenylpropanoid glycoside        0               316         8     180.0   \n",
       "2  Phenylpropanoid glycoside        0               316         8     163.0   \n",
       "3  Phenylpropanoid glycoside        0               316         8     145.0   \n",
       "\n",
       "   peak_rel.int.  \n",
       "0              3  \n",
       "1             10  \n",
       "2            100  \n",
       "3             60  "
      ]
     },
     "execution_count": 3,
     "metadata": {},
     "output_type": "execute_result"
    }
   ],
   "source": [
    "# Les lignes ayant le même 'Accession' doivent être comprises comme les données d'une même entité (code Amal)\n",
    "np.random.seed = 123\n",
    "\n",
    "unique_users = df['ACCESSION'].unique()\n",
    "target_n = int(.8 * len(df))\n",
    "shuffled_users = np.random.permutation(unique_users)\n",
    "\n",
    "user_count = df['ACCESSION'].value_counts()\n",
    "\n",
    "mapping = user_count.reindex(shuffled_users).cumsum() <= target_n\n",
    "mask = df['ACCESSION'].map(mapping)\n",
    "\n",
    "df_train = df[mask]\n",
    "df_test = df[~mask]\n",
    "\n",
    "df_train.head(4)"
   ]
  },
  {
   "cell_type": "code",
   "execution_count": 4,
   "metadata": {},
   "outputs": [],
   "source": [
    "#Séparation en variables cibles et explicatives :  chaque classe est une variable cible différente.\n",
    "#La classe la plus interessante a priori est la classe 3, la plus 'précise' (classe 3 incluse dans la 2 qui est incluse dans la 1)\n",
    " \n",
    "X_test = df_test[['num_peak', 'peak_m/z', 'peak_rel.int.', 'AC_mode' ]]\n",
    "y_test3 = df_test.class3\n",
    "y_test2 = df_test.class2\n",
    "y_test1 = df_test.class1\n",
    "\n",
    "X_train = df_train[['num_peak', 'peak_m/z', 'peak_rel.int.', 'AC_mode']]\n",
    "y_train3 = df_train.class3\n",
    "y_train2 = df_train.class2\n",
    "y_train1 = df_train.class1"
   ]
  },
  {
   "cell_type": "code",
   "execution_count": 5,
   "metadata": {},
   "outputs": [
    {
     "name": "stdout",
     "output_type": "stream",
     "text": [
      "Score de rf: 0.23655244029075806\n"
     ]
    }
   ],
   "source": [
    "#classification paramètre par défaut rf CLASS3\n",
    "clf_rf = ensemble.RandomForestClassifier()\n",
    "clf_rf.fit(X_train, y_train3)\n",
    "\n",
    "clf_rf.predict(X_test)\n",
    "print('Score de rf:', clf_rf.score(X_test, y_test3))"
   ]
  },
  {
   "cell_type": "code",
   "execution_count": 6,
   "metadata": {},
   "outputs": [
    {
     "name": "stdout",
     "output_type": "stream",
     "text": [
      "Score de rf: 0.32429906542056075\n"
     ]
    }
   ],
   "source": [
    "#classification paramètre par défaut rf CLASS2\n",
    "clf_rf = ensemble.RandomForestClassifier()\n",
    "clf_rf.fit(X_train, y_train2)\n",
    "\n",
    "clf_rf.predict(X_test)\n",
    "print('Score de rf:', clf_rf.score(X_test, y_test2))"
   ]
  },
  {
   "cell_type": "code",
   "execution_count": 8,
   "metadata": {},
   "outputs": [
    {
     "name": "stdout",
     "output_type": "stream",
     "text": [
      "Score de rf: 0.4814122533748702\n"
     ]
    }
   ],
   "source": [
    "#classification paramètre par défaut rf CLASS1\n",
    "clf_rf = ensemble.RandomForestClassifier()\n",
    "clf_rf.fit(X_train, y_train1)\n",
    "\n",
    "clf_rf.predict(X_test)\n",
    "print('Score de rf:', clf_rf.score(X_test, y_test1))"
   ]
  },
  {
   "cell_type": "code",
   "execution_count": 7,
   "metadata": {},
   "outputs": [],
   "source": [
    "#recherche des meilleurs paramètres forêt aléatoire CLASS3\n",
    "\n",
    "clf_rf = ensemble.RandomForestClassifier()\n",
    "\n",
    "parametres_rf = {}\n",
    "\n",
    "grid_clf_rf = model_selection.GridSearchCV(estimator = clf_rf, param_grid = parametres_rf)\n",
    "\n",
    "grille = grid_clf_rf.fit(X_train, y_train3)\n",
    "\n",
    "print('Meilleurs paramètres de rf:', grid_clf_rf.best_params_)\n",
    "\n",
    "y_pred_rf = grid_clf_rf.predict(X_test)\n",
    "\n",
    "print('Score de rf:', grid_clf_rf.score(X_test, y_test3))"
   ]
  }
 ],
 "metadata": {
  "kernelspec": {
   "display_name": "Python 3",
   "language": "python",
   "name": "python3"
  },
  "language_info": {
   "codemirror_mode": {
    "name": "ipython",
    "version": 3
   },
   "file_extension": ".py",
   "mimetype": "text/x-python",
   "name": "python",
   "nbconvert_exporter": "python",
   "pygments_lexer": "ipython3",
   "version": "3.6.5"
  }
 },
 "nbformat": 4,
 "nbformat_minor": 2
}
